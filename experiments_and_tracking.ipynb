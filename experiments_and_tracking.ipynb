{
 "cells": [
  {
   "cell_type": "markdown",
   "id": "c74a0b5d-1355-48e2-b3e0-543f1dcd9088",
   "metadata": {},
   "source": [
    "The process can be defined from ($\\varphi, \\lambda, Q$) where\n",
    "* $\\varphi$ is the ODE dynamics - or the integral path defined by a vector field $\\Phi$\n",
    "* $\\lambda$ is the probability that a jumps occurs during the particle's movement\n",
    "* $Q$ is the Markov kernel used for the jump\n",
    "\n",
    "ZigZag sampler:\n",
    "\n",
    "* $\\Phi(x, v)$ = v\n",
    "* $\\lambda(x, v)_i = (v_i (\\partial \\psi(x))_i)_+$, with $\\pi \\propto \\exp(-\\psi(x))$ the target distribution. For Gaussian distribution: $$\\lambda(x, v)_i = (v_i x_i)_+ $$\n",
    "* Q reverses speed.\n",
    "\n",
    "For the reverse process, we essentially just need to compute, for all $i$:\n",
    "$$ \\bar \\lambda_i = \\lambda_i \\dfrac{p_t(x_t, R_i v_t)}{p_t(x_t, v_t)} $$\n",
    "Notations:\n",
    "$$ s_{\\theta}(x, R v, t) = \\begin{pmatrix} s_{\\theta}(x, R_1 v, t)_1 \\\\ \\cdots \\\\ s_{\\theta}(x, R_d v, t)_d \\end{pmatrix}$$\n",
    "where $R_i v = \\begin{pmatrix} v_1 \\\\ \\cdot \\\\ -v_i \\\\ \\cdot \\\\ v_n \\end{pmatrix}$\n",
    "* Fit the model by minimizing:\n",
    "     $$ \\mathbb{E}_{t, x, v} \\|  s_{\\theta}(x, v, t) - \\dfrac{p_t(x_t, R v_t)}{p_t(x_t, v_t)}\\|^2 =  \\mathbb{E}_{t, x, v} \\frac12 s_{\\theta}(x, v, t)^2 - s_{\\theta}(x, R v, t)$$\n",
    "\n",
    "\n",
    "\n",
    "Current Limitations\n",
    "* If the dimension is $d$, we need $d+1$ forward pass, because:\n",
    "$$ \\mathbb{E}_{t, x, v} \\frac12 s_{\\theta}(x, v, t)^2 - s_{\\theta}(x, R v, t) = \\mathbb{E}_{t, x, v} \\sum_{i=1}^d \\frac12 s_{\\theta}(x, v, t)_i^2 - s_{\\theta}(x, R_i v, t)_i$$\n",
    "* The loss is unstable."
   ]
  },
  {
   "cell_type": "markdown",
   "id": "5f86a9b6",
   "metadata": {},
   "source": [
    "**Symmetrised ratio matching** we introduce the function $g(r) = \\frac{1}{1+r}$ and define the objective function\n",
    "\\begin{equation}\n",
    "    J_{ERM}(\\theta) = \\sum_{i=1}^d \\mathbb{E}_{p_t}\\left[ \\left(g(s_\\theta(X_t,V_t,t)[i]) - g(r_i(X_t,V_t,t)) \\right)^2 + \\left(g(s_\\theta(X_t,R_iV_t,t)[i]) - g(r_i(X_t,R_iV_t,t)) \\right)^2 \\right]\n",
    "\\end{equation}\n",
    "which is equivalent, as an objective function, to:\n",
    "\\begin{equation}\n",
    "    J_{IRM}(\\theta) = \\sum_{i=1}^d \\mathbb{E}_{p_t}\\left[ \\frac{1}{(1 + s_\\theta(x,v,t)[i])^2} +\\frac{1}{(1 + s_\\theta(x,R_i v,t)[i])^2}  - \\frac{2}{1 + s_\\theta(x,v,t)[i]}\\right]\n",
    "\\end{equation}\n",
    "\n",
    "\n",
    "**KL minimisation** Focus on the score entropy:\n",
    "\\begin{equation}\n",
    "    J_{ERM}(\\theta) =  \\sum_{i=1}^d w_i\\mathbb{E}_{p_t}\\left[ s_\\theta(X_t,V_t,t)[i] -r_i(X_t,V_t,t)  - \\Big( \\log s_\\theta(X_t,R_iV_t,t)[i]) - \\log r_i(X_t,R_iV_t,t)\\Big) \\right].\n",
    "\\end{equation}\n",
    "where $\\{w_i\\}$ is a sequence of weights. Also this objective function considers the error in the estimation of both $r_i(x,v,t)$ and $r_i(x,R_iv,t)$, encouraging stable solutions. Clearly the implicit formulation has objective function \n",
    "\\begin{equation}\n",
    "    J_{IRM}(\\theta) =  \\sum_{i=1}^d w_i\\mathbb{E}_{p_t}\\left[ s_\\theta(X_t,V_t,t)[i] -  \\log s_\\theta(X_t,R_iV_t,t)[i]) \\right].\n",
    "\\end{equation}\n"
   ]
  },
  {
   "cell_type": "markdown",
   "id": "6ca054cb",
   "metadata": {},
   "source": [
    "TODO:\n",
    "* Mixing time of pdmp (time horizon?). (Andrea)\n",
    "* Dimension problem. Think of it today: first architecture is outputting (Dario)\n",
    "$$r_t(x, v)_1, r_t(x, R_1v)_1, \\cdots$$ \n",
    "Second one: (Dario)\n",
    "$$r_t(x, 1, v_{[2:d]})_1, r_t(x, -1, v_{[2:d]})_1, \\cdots$$\n",
    "Third one: (Andrea)\n",
    "Coordinate descent on the loss \n",
    "* Monte-Carlo to plot real density ratio, 1d and 2d, compare with model. (Dario)\n",
    "* Add evaluation metrics, and loss metrics. (Dario)\n",
    "* Experiments: \n",
    "    * Other datasets. $\\mathcal{N}(\\mu, \\sigma^2 I_2)$ instead of mixture. (Dario).\n",
    "    * Increase dimensions of the data distribution (Dario).\n",
    "    * Study effect of the number of reverse steps. Effect of the backward sampling (spliting scheme) (Dario)\n",
    "\n",
    "\n",
    "Connect to github, maybe andrea has his own branch, and then you can update the code. \n",
    "\n",
    "\n",
    "* Architecture. Change the network architecture. Receives $R$ as an argument, and is made invariant on speed?\n",
    "    $$ s_{\\theta}(x, v, R) : \\quad  s_{\\theta}(x, Rv, R) = s_{\\theta}(x, v, R)$$ \n",
    "    Take the component $i$ as an input. Idea of copula? Take a single dimension as input too? outputs a single value."
   ]
  },
  {
   "cell_type": "markdown",
   "id": "0cae04b9-aa5a-4d36-838d-838a0835bb1e",
   "metadata": {
    "tags": []
   },
   "source": [
    "# PDMP"
   ]
  },
  {
   "cell_type": "markdown",
   "id": "90aa70a0",
   "metadata": {},
   "source": [
    "## Playground"
   ]
  },
  {
   "cell_type": "code",
   "execution_count": null,
   "id": "4aa67452",
   "metadata": {},
   "outputs": [],
   "source": [
    "# Import required packages\n",
    "import torch\n",
    "import numpy as np\n",
    "import normflows as nf\n",
    "import zuko\n",
    "\n",
    "from matplotlib import pyplot as plt\n",
    "\n",
    "from tqdm import tqdm"
   ]
  },
  {
   "cell_type": "code",
   "execution_count": null,
   "id": "369f2fc1",
   "metadata": {},
   "outputs": [],
   "source": [
    "# Neural spline flow (NSF) with 3 sample features and 5 context features\n",
    "model = zuko.flows.NSF(2, 1, transforms=3, hidden_features=[128] * 3)"
   ]
  },
  {
   "cell_type": "code",
   "execution_count": null,
   "id": "ca69703a",
   "metadata": {},
   "outputs": [],
   "source": [
    "# Set up model\n",
    "\n",
    "# Define 2D Gaussian base distribution\n",
    "base = nf.distributions.base.DiagGaussian(2)\n",
    "\n",
    "# Define list of flows\n",
    "num_layers = 32\n",
    "flows = []\n",
    "for i in range(num_layers):\n",
    "    # Neural network with two hidden layers having 64 units each\n",
    "    # Last layer is initialized by zeros making training more stable\n",
    "    param_map = nf.nets.MLP([1+1, 64, 64, 2], init_zeros=True) # 3 additional condition dimensions\n",
    "    # Add flow layer\n",
    "    flows.append(nf.flows.AffineCouplingBlock(param_map))\n",
    "    # Swap dimensions\n",
    "    flows.append(nf.flows.Permute(2, mode='swap'))\n",
    "    \n",
    "# Construct flow model\n",
    "model = nf.ConditionalNormalizingFlow(base, flows)"
   ]
  },
  {
   "cell_type": "code",
   "execution_count": null,
   "id": "8d5f6e61",
   "metadata": {},
   "outputs": [],
   "source": [
    "# Move model on GPU if available\n",
    "enable_cuda = True\n",
    "device = 'mps' #torch.device('cuda' if torch.cuda.is_available() and enable_cuda else 'cpu')\n",
    "model = model.to(device)"
   ]
  },
  {
   "cell_type": "code",
   "execution_count": null,
   "id": "7e040fa2",
   "metadata": {},
   "outputs": [],
   "source": [
    "# Define target distribution\n",
    "from torch.utils.data import TensorDataset\n",
    "from torch.utils.data import DataLoader\n",
    "\n",
    "num_samples = 10000\n",
    "target_0 = nf.distributions.TwoMoons().sample(num_samples)\n",
    "context_0 = torch.zeros(num_samples).unsqueeze(-1)\n",
    "target_1 = nf.distributions.CircularGaussianMixture().sample(num_samples)\n",
    "context_1 = torch.ones(num_samples).unsqueeze(-1)\n",
    "target = torch.cat((target_0, target_1), dim=0)\n",
    "context = torch.cat((context_0, context_1), dim=0)\n",
    "# shuffle entries of target\n",
    "idx = torch.randperm(target.shape[0])\n",
    "target = target[idx]\n",
    "context = context[idx]\n",
    "\n",
    "dataset = TensorDataset(target, context) #attached a class to the data, will be useful on other datasets\n",
    "data = DataLoader(dataset, \n",
    "                batch_size=target.shape[0] // 8, \n",
    "                shuffle=True, \n",
    "                num_workers=0)"
   ]
  },
  {
   "cell_type": "code",
   "execution_count": null,
   "id": "0fd395be",
   "metadata": {},
   "outputs": [],
   "source": [
    "loss_hist = np.array([])\n",
    "optimizer = torch.optim.Adam(model.parameters(), lr=5e-4, weight_decay=1e-5) # 5e-4"
   ]
  },
  {
   "cell_type": "code",
   "execution_count": null,
   "id": "bb6344f3",
   "metadata": {},
   "outputs": [],
   "source": [
    "# Train model\n",
    "max_iter = 1000\n",
    "\n",
    "it = 0\n",
    "for it in tqdm(range(0, max_iter, len(data))):\n",
    "    for _, (x, context) in (enumerate(data)):\n",
    "        optimizer.zero_grad()\n",
    "        \n",
    "        # Get training samples\n",
    "        #x = target.sample(num_samples).to(device)\n",
    "        x, context = x.to(device), context.to(device)\n",
    "        \n",
    "        # Compute loss\n",
    "        #loss = model.forward_kld(x, context=context)\n",
    "        loss = -model(context).log_prob(x)\n",
    "        loss = loss.mean()\n",
    "\n",
    "        # Do backprop and optimizer step\n",
    "        if ~(torch.isnan(loss) | torch.isinf(loss)):\n",
    "            loss.backward()\n",
    "            optimizer.step()\n",
    "        \n",
    "        # Log loss\n",
    "        loss_hist = np.append(loss_hist, loss.to('cpu').data.numpy())\n",
    "    if (it% (50*len(data))) == 0:\n",
    "        print('Loss: ', loss)\n",
    "    #print('Loss: ', loss)\n",
    "\n",
    "# Plot loss\n",
    "plt.figure(figsize=(10, 10))\n",
    "plt.plot(loss_hist, label='loss')\n",
    "plt.legend()\n",
    "plt.show()"
   ]
  },
  {
   "cell_type": "code",
   "execution_count": null,
   "id": "f9e002ae",
   "metadata": {},
   "outputs": [],
   "source": [
    "# Plot target distribution\n",
    "f, ax = plt.subplots(1, 2, sharey=True, figsize=(15, 7))\n",
    "# Plot target distribution\n",
    "grid_size = 200\n",
    "xx, yy = torch.meshgrid(torch.linspace(-3, 3, grid_size), torch.linspace(-3, 3, grid_size))\n",
    "zz = torch.cat([xx.unsqueeze(2), yy.unsqueeze(2)], 2).view(-1, 2)\n",
    "zz = zz.to(device)\n",
    "\n",
    "#log_prob = target.log_prob(zz).to('cpu').view(*xx.shape)\n",
    "#prob = torch.exp(log_prob)\n",
    "#prob[torch.isnan(prob)] = 0\n",
    "# Plot learned distribution\n",
    "model.eval()\n",
    "log_prob = model(0*torch.ones(zz.shape[0], 1).to(device)).log_prob(zz).to('cpu').view(*xx.shape) #model.log_prob(zz, 0*torch.ones(zz.shape[0], 1)).to('cpu').view(*xx.shape)\n",
    "model.train()\n",
    "prob = torch.exp(log_prob)\n",
    "prob[torch.isnan(prob)] = 0\n",
    "\n",
    "ax[0].pcolormesh(xx, yy, prob.data.numpy(), cmap='coolwarm')\n",
    "\n",
    "ax[0].set_aspect('equal', 'box')\n",
    "ax[0].set_axis_off()\n",
    "ax[0].set_title('TwoMoons, class 0', fontsize=24)\n",
    "\n",
    "# Plot learned distribution\n",
    "model.eval()\n",
    "log_prob = model(1*torch.ones(zz.shape[0], 1).to(device)).log_prob(zz).to('cpu').view(*xx.shape)#model.log_prob(zz, 1*torch.ones(zz.shape[0], 1)).to('cpu').view(*xx.shape)\n",
    "model.train()\n",
    "prob = torch.exp(log_prob)\n",
    "prob[torch.isnan(prob)] = 0\n",
    "\n",
    "ax[1].pcolormesh(xx, yy, prob.data.numpy(), cmap='coolwarm')\n",
    "\n",
    "ax[1].set_aspect('equal', 'box')\n",
    "ax[1].set_axis_off()\n",
    "ax[1].set_title('Gaussian Circle, class 1', fontsize=24)\n",
    "\n",
    "plt.subplots_adjust(wspace=0.1)\n",
    "\n",
    "plt.show()"
   ]
  },
  {
   "cell_type": "code",
   "execution_count": null,
   "id": "a13d3940",
   "metadata": {},
   "outputs": [],
   "source": [
    "model(torch.zeros(10, 1).to(device)).sample()"
   ]
  },
  {
   "cell_type": "markdown",
   "id": "c460a9a9-5912-49c1-a79d-65c1fdbe7758",
   "metadata": {
    "jp-MarkdownHeadingCollapsed": true,
    "tags": []
   },
   "source": [
    "## Setup"
   ]
  },
  {
   "cell_type": "markdown",
   "id": "65b2a3b2",
   "metadata": {},
   "source": [
    "* Forward, backward, loss in PDMP class\n",
    "* Other classes automatically take care of training, evaluation, saving, loading etc\n",
    "\n",
    "Prepare all our objects:"
   ]
  },
  {
   "cell_type": "code",
   "execution_count": null,
   "id": "a9c5ecc1-d98a-47b6-84c5-438484172c0d",
   "metadata": {
    "tags": []
   },
   "outputs": [],
   "source": [
    "from IPython.display import HTML\n",
    "from IPython.display import display\n",
    "import os\n",
    "import yaml\n",
    "import matplotlib.pyplot as plt\n",
    "from matplotlib.widgets import Slider, Button, RadioButtons\n",
    "\n",
    "import numpy as np\n",
    "import torch\n",
    "from torch.utils.data import TensorDataset\n",
    "from torch.utils.data import DataLoader\n",
    "import initial_code.pdmp as PDMP\n",
    "import Data as Data\n",
    "from Model import LevyDiffusionModel\n",
    "import torch.optim as optim\n",
    "import torch.nn as nn\n",
    "import Generate as Gen\n",
    "import matplotlib.pyplot as plt\n",
    "import evaluate.Eval as Eval\n",
    "import Manager \n",
    "import zuko\n",
    "\n",
    "%matplotlib inline\n",
    "\n",
    "p_model_2d = {\n",
    "    'act' : 'silu',\n",
    "    'skip_connection' : True,\n",
    "    'group_norm' : True,\n",
    "    'dropout_rate' : .0,\n",
    "    'nblocks' : 32,\n",
    "    'nunits' : 64,\n",
    "    'use_a_t' : False,\n",
    "    'no_a': True,\n",
    "    'a_pos_emb': False, # cannot have no_a and a_pos_emb\n",
    "    'a_emb_size': 32,\n",
    "    'time_emb_type' : 'learnable',#'learnable',# 'one_dimensional_input',\n",
    "    'time_emb_size' : 8, \n",
    "    'compute_gamma': False,\n",
    "}\n",
    "\n",
    "p_data_2d = {\n",
    "    'nfeatures' : 2, # if data_type is 2d, will just project on first dimension\n",
    "    'nsamples' : 4*8*1024,\n",
    "    #'bs': ..., may need to add\n",
    "    'dataset' : 'gmm_2',\n",
    "    'std' : 0.1, # 0.5, 0.05,\n",
    "    'n_mixture' : 2, # must be square. set to None if not a grid mixture\n",
    "    'normalize' : True,\n",
    "    #'weights': np.array([1/2]*2),\n",
    "    'weights': None,#[.01, .1, .3, \n",
    "               # .2, .02, .15,\n",
    "               # .02, .15, .05],# None, #np.array([.05, .95]),\n",
    "    'theta': 1.,\n",
    "    'alpha': 2.,\n",
    "    #'isotropic': True\n",
    "}\n",
    "\n",
    "device = 'mps'\n",
    "# device = 'cpu'\n",
    "\n",
    "# original data, get dataloader\n",
    "gmm_2 = Data.Generator(**p_data_2d)#('gmm_2', n_samples = 32000, theta=1, std = 0.1)\n",
    "GMM2 = gmm_2.generate()\n",
    "GMM2 = GMM2.unsqueeze(1) # add channel\n",
    "dataset = TensorDataset(GMM2, torch.tensor([0.]).repeat(GMM2.shape[0])) #attached a class to the data, will be useful on other datasets\n",
    "data = DataLoader(dataset, \n",
    "                batch_size=p_data_2d['nsamples'] // 8, \n",
    "                shuffle=True, \n",
    "                num_workers=0)\n",
    "\n",
    "# model\n",
    "#model = LevyDiffusionModel({'data': {'nfeatures': p_data_2d['nfeatures']}, 'model':p_model_2d, 'device': 'cpu'}).to(device)\n",
    "# Neural spline flow (NSF) with 3 sample features and 5 context features\n",
    "model = zuko.flows.NSF(2, 3, transforms=3, hidden_features=[128] * 3).to(device)\n",
    "\n",
    "# optimizer\n",
    "optimizer = optim.AdamW(model.parameters(), \n",
    "                        lr=5e-4, \n",
    "                        betas=(0.9, 0.99)) # beta_2 0.95 instead of 0.999\n",
    "\n",
    "# PDMP class\n",
    "pdmp = PDMP.PDMP(time_horizon = 10, reverse_steps = 250, device=device, sampler_name='BPS', refresh_rate = 0.5)\n",
    "\n",
    "# Manager for data generation\n",
    "gen_model = Gen.GenerationManager(model, pdmp, data)\n",
    "\n",
    "eval_class = Eval.Eval(model, pdmp, data, is_image=False)\n",
    "manager = Manager.Manager(model, \n",
    "                 data,\n",
    "                 pdmp, \n",
    "                 optimizer,\n",
    "                 learning_schedule = None,\n",
    "                 eval = eval_class,\n",
    "                 ema_rates = None,)\n"
   ]
  },
  {
   "cell_type": "markdown",
   "id": "025d9096-9466-4f2e-9d77-19e283bb696c",
   "metadata": {
    "jp-MarkdownHeadingCollapsed": true,
    "tags": []
   },
   "source": [
    "## Look at the noised data"
   ]
  },
  {
   "cell_type": "code",
   "execution_count": null,
   "id": "51b1b1e2-f91d-4799-addd-e60554af38b3",
   "metadata": {
    "tags": []
   },
   "outputs": [],
   "source": [
    "# can use this to load a model, optimizer, learning schedule, and eval metrics\n",
    "\n",
    "MODEL_PATH = 'models/model.pt'\n",
    "EVAL_PATH = 'models/eval_model.pt'\n",
    "\n",
    "manager.load(MODEL_PATH)\n",
    "manager.load_eval_metrics(EVAL_PATH)"
   ]
  },
  {
   "cell_type": "code",
   "execution_count": null,
   "id": "d5639bc1-1a7e-4ec3-93df-208e6e74fa34",
   "metadata": {
    "tags": []
   },
   "outputs": [],
   "source": [
    "# clone data, since it will be modified by forward process\n",
    "data_clone = GMM2.clone()\n",
    "# orint its shape\n",
    "print(data_clone.shape)\n",
    "# # get a unit time horizon\n",
    "time_horizons = torch.ones(data_clone.shape)\n",
    "for i in range(int(pdmp.T)):\n",
    "    t = time_horizons.clone()\n",
    "    pdmp.forward(data_clone, t)\n",
    "#* pdmp.T\n",
    "# forward process for pmdp.T time units\n",
    "#pdmp.forward(data_clone, time_horizons)"
   ]
  },
  {
   "cell_type": "code",
   "execution_count": null,
   "id": "40a432d4-5754-4e1d-a629-de947e0f673c",
   "metadata": {
    "tags": []
   },
   "outputs": [],
   "source": [
    "# look at histogram of one component at the last timestep\n",
    "\n",
    "pos = data_clone.squeeze(1) # remove channel dimension\n",
    "import scipy.stats as stats\n",
    "X = np.linspace(-3, 3, 100)\n",
    "Y = stats.norm.pdf(X, 0, 1)\n",
    "plt.plot(X, Y, color='red')\n",
    "plt.hist(pos[:, 0], bins='auto', density=True)\n",
    "plt.show()"
   ]
  },
  {
   "cell_type": "markdown",
   "id": "53c53dfc",
   "metadata": {},
   "source": [
    "* Still need some work to get to the Monte-Carlo estimation for every possible values of speed."
   ]
  },
  {
   "cell_type": "code",
   "execution_count": null,
   "id": "d7f6e033",
   "metadata": {},
   "outputs": [],
   "source": [
    "# clone data, since it will be modified by forward process\n",
    "M = 1\n",
    "L = []\n",
    "lims = 3\n",
    "T = np.linspace(0, 5, 100)\n",
    "for t in T:\n",
    "    # Define the number of bins in each dimension\n",
    "    num_bins = 100  # You can adjust this value as needed\n",
    "    tmp = []\n",
    "    for m in range(M):\n",
    "        data_clone = GMM2.clone()\n",
    "        pdmp.forward(data_clone, torch.ones(data_clone.shape)*t)\n",
    "        data_clone = data_clone.clamp(-lims, lims).squeeze(1).numpy()\n",
    "        # Compute the 2D histogram\n",
    "        hist, x_edges, y_edges = np.histogram2d(data_clone[:,0], data_clone[:,1], bins=num_bins, range=[[-lims, lims], [-lims, lims]], density=True)\n",
    "        tmp.append(hist)\n",
    "        # 'hist' contains the 2D histogram values\n",
    "        # 'x_edges' and 'y_edges' are the bin edges in the x and y dimensions, respectively\n",
    "    tmp = np.array(tmp)\n",
    "    tmp = tmp.mean(axis = 0)\n",
    "    L.append(tmp)\n",
    "L = np.array(L)"
   ]
  },
  {
   "cell_type": "code",
   "execution_count": null,
   "id": "d5e25eaa",
   "metadata": {},
   "outputs": [],
   "source": [
    "plt.imshow(L[5], origin='lower', aspect='auto')#extent=[x_edges[0], x_edges[-1], y_edges[0], y_edges[-1]])\n",
    "plt.colorbar()  # Add a color bar to indicate the scale\n",
    "plt.xlabel('X')  # Label for the x-axis\n",
    "plt.ylabel('Y')  # Label for the y-axis\n",
    "plt.title('p_t(x) Heatmap')  # Title of the heatmap\n",
    "plt.show()  # Display the heatmap"
   ]
  },
  {
   "cell_type": "markdown",
   "id": "34ff327c-f615-4cb8-8ca6-211303876bb5",
   "metadata": {
    "jp-MarkdownHeadingCollapsed": true,
    "tags": []
   },
   "source": [
    "## Train the model"
   ]
  },
  {
   "cell_type": "code",
   "execution_count": 5,
   "id": "beb54eba",
   "metadata": {},
   "outputs": [],
   "source": [
    "from IPython.display import HTML\n",
    "from IPython.display import display\n",
    "import os\n",
    "import yaml\n",
    "import matplotlib.pyplot as plt\n",
    "from matplotlib.widgets import Slider, Button, RadioButtons\n",
    "\n",
    "import numpy as np\n",
    "import torch\n",
    "from torch.utils.data import TensorDataset\n",
    "from torch.utils.data import DataLoader\n",
    "import initial_code.pdmp as PDMP\n",
    "import Data as Data\n",
    "from Model import LevyDiffusionModel\n",
    "import torch.optim as optim\n",
    "import torch.nn as nn\n",
    "import Generate as Gen\n",
    "import matplotlib.pyplot as plt\n",
    "import evaluate.Eval as Eval\n",
    "import Manager \n",
    "import zuko\n",
    "\n",
    "%matplotlib inline\n",
    "\n",
    "p_model_2d = {\n",
    "    'act' : 'silu',\n",
    "    'skip_connection' : True,\n",
    "    'group_norm' : True,\n",
    "    'dropout_rate' : .0,\n",
    "    'nblocks' : 32,\n",
    "    'nunits' : 64,\n",
    "    'use_a_t' : False,\n",
    "    'no_a': True,\n",
    "    'a_pos_emb': False, # cannot have no_a and a_pos_emb\n",
    "    'a_emb_size': 32,\n",
    "    'time_emb_type' : 'learnable',#'learnable',# 'one_dimensional_input',\n",
    "    'time_emb_size' : 8, \n",
    "    'compute_gamma': False,\n",
    "}\n",
    "\n",
    "p_data_2d = {\n",
    "    'nfeatures' : 2, # if data_type is 2d, will just project on first dimension\n",
    "    'nsamples' : 4*8*1024,\n",
    "    #'bs': ..., may need to add\n",
    "    'dataset' : 'gmm_2',\n",
    "    'std' : 0.1, # 0.5, 0.05,\n",
    "    'n_mixture' : 2, # must be square. set to None if not a grid mixture\n",
    "    'normalize' : True,\n",
    "    #'weights': np.array([1/2]*2),\n",
    "    'weights': None,#[.01, .1, .3, \n",
    "               # .2, .02, .15,\n",
    "               # .02, .15, .05],# None, #np.array([.05, .95]),\n",
    "    'theta': 1.,\n",
    "    'alpha': 2.,\n",
    "    #'isotropic': True\n",
    "}\n",
    "\n",
    "device = 'mps'\n",
    "# device = 'cpu'\n",
    "\n",
    "# original data, get dataloader\n",
    "gmm_2 = Data.Generator(**p_data_2d)#('gmm_2', n_samples = 32000, theta=1, std = 0.1)\n",
    "GMM2 = gmm_2.generate()\n",
    "GMM2 = GMM2.unsqueeze(1) # add channel\n",
    "dataset = TensorDataset(GMM2, torch.tensor([0.]).repeat(GMM2.shape[0])) #attached a class to the data, will be useful on other datasets\n",
    "data = DataLoader(dataset, \n",
    "                batch_size=p_data_2d['nsamples'] // 8, \n",
    "                shuffle=True, \n",
    "                num_workers=0)\n",
    "\n",
    "# model\n",
    "#model = LevyDiffusionModel({'data': {'nfeatures': p_data_2d['nfeatures']}, 'model':p_model_2d, 'device': 'cpu'}).to(device)\n",
    "# Neural spline flow (NSF) with 3 sample features and 5 context features\n",
    "model = zuko.flows.NSF(2, 3, transforms=3, hidden_features=[128] * 3).to(device)\n",
    "\n",
    "# optimizer\n",
    "optimizer = optim.AdamW(model.parameters(), \n",
    "                        lr=5e-4, \n",
    "                        betas=(0.9, 0.99)) # beta_2 0.95 instead of 0.999\n",
    "\n",
    "# PDMP class\n",
    "pdmp = PDMP.PDMP(time_horizon = 10, reverse_steps = 200, device=device, sampler_name='BPS', refresh_rate = 1.)\n",
    "\n",
    "# Manager for data generation\n",
    "gen_model = Gen.GenerationManager(model, pdmp, data)\n",
    "\n",
    "eval_class = Eval.Eval(model, pdmp, data, is_image=False)\n",
    "manager = Manager.Manager(model, \n",
    "                 data,\n",
    "                 pdmp, \n",
    "                 optimizer,\n",
    "                 learning_schedule = None,\n",
    "                 eval = eval_class,\n",
    "                 ema_rates = None,)\n"
   ]
  },
  {
   "cell_type": "code",
   "execution_count": 6,
   "id": "6c28d0bc",
   "metadata": {},
   "outputs": [
    {
     "name": "stderr",
     "output_type": "stream",
     "text": [
      "100%|██████████| 50/50 [00:34<00:00,  1.45it/s]\n",
      "100%|██████████| 200/200 [00:25<00:00,  7.71it/s]\n"
     ]
    },
    {
     "name": "stdout",
     "output_type": "stream",
     "text": [
      "wasserstein\n",
      "\tlosses_batch = 2.5943233966827393\n",
      "\twass = 0.08295591396474346\n",
      "\tprecision = 0.8520988707923467\n",
      "\trecall = 0.9810221460688213\n",
      "\tdensity = 0.0\n",
      "\tcoverage = 0.0\n",
      "\tfid = 0.0\n",
      "\tf_1_pr = 0.912026925880624\n",
      "\tf_1_dc = 0.0\n",
      "\tfig = Figure(640x480)\n"
     ]
    }
   ],
   "source": [
    "for i in range(0, 1):\n",
    "    manager.train(nepochs = 50) #progress_epoch=True)\n",
    "    manager.evaluate()\n",
    "manager.save('models/model.pt')\n",
    "manager.save_eval_metrics('models/eval_model.pt')"
   ]
  },
  {
   "cell_type": "code",
   "execution_count": null,
   "id": "81284b1f",
   "metadata": {},
   "outputs": [],
   "source": [
    "manager.display_evals('losses_batch', log_scale=False)"
   ]
  },
  {
   "cell_type": "code",
   "execution_count": null,
   "id": "14dd3769",
   "metadata": {},
   "outputs": [],
   "source": [
    "manager.display_evals('losses', log_scale=False)"
   ]
  },
  {
   "cell_type": "code",
   "execution_count": null,
   "id": "362611ce",
   "metadata": {},
   "outputs": [],
   "source": [
    "manager.display_evals('wass', log_scale=True)"
   ]
  },
  {
   "cell_type": "code",
   "execution_count": null,
   "id": "ac34d7ca",
   "metadata": {},
   "outputs": [],
   "source": [
    "manager.display_evals('recall', log_scale=False)"
   ]
  },
  {
   "cell_type": "code",
   "execution_count": null,
   "id": "e1dc7a5c",
   "metadata": {},
   "outputs": [],
   "source": [
    "manager.display_evals('precision', log_scale=False)"
   ]
  },
  {
   "cell_type": "markdown",
   "id": "a5663701",
   "metadata": {},
   "source": [
    "As usual, $F_1$ score is:\n",
    "$$ F_1 = 2\\dfrac{\\textrm{precision} \\cdot \\textrm{recall}}{\\textrm{precision} + \\textrm{recall}}$$ "
   ]
  },
  {
   "cell_type": "code",
   "execution_count": null,
   "id": "3961eb74",
   "metadata": {},
   "outputs": [],
   "source": [
    "manager.display_evals('f_1_pr', log_scale=False)"
   ]
  },
  {
   "cell_type": "code",
   "execution_count": null,
   "id": "0c397ae0",
   "metadata": {},
   "outputs": [],
   "source": [
    "for i in [-1]:\n",
    "    display(manager.eval.evals['fig'][i])"
   ]
  },
  {
   "cell_type": "markdown",
   "id": "b211eff2-f2e5-4514-b676-3bffdb688648",
   "metadata": {
    "jp-MarkdownHeadingCollapsed": true,
    "tags": []
   },
   "source": [
    "# Reverse Sampling"
   ]
  },
  {
   "cell_type": "markdown",
   "id": "0d0fcd48",
   "metadata": {},
   "source": [
    "## Inspect generated data trajectory - from noise to data distribution"
   ]
  },
  {
   "cell_type": "code",
   "execution_count": 7,
   "id": "243a15ac",
   "metadata": {},
   "outputs": [],
   "source": [
    "gen_model = Gen.GenerationManager(model, pdmp, data)\n",
    "gen_model.generate(1000)"
   ]
  },
  {
   "cell_type": "code",
   "execution_count": null,
   "id": "2058100d-2a6c-49c8-b671-6c35bb13c1b2",
   "metadata": {
    "tags": []
   },
   "outputs": [],
   "source": [
    "# Look at the position of the particle through time\n",
    "# print(gen_model.history.shape)\n",
    "pos = gen_model.history.squeeze(-2)[:,2, :2]\n",
    "# print(pos.shape) # squeeze: remove channel dimension\n",
    "plt.plot(pos[:, 0], pos[:, 1], linestyle='-')\n",
    "plt.grid(True)\n",
    "plt.show()"
   ]
  },
  {
   "cell_type": "markdown",
   "id": "16cea339",
   "metadata": {},
   "source": [
    "We can now use our GenerationManager object to examine the generated data."
   ]
  },
  {
   "cell_type": "markdown",
   "id": "8e265cee",
   "metadata": {},
   "source": [
    "* get animation"
   ]
  },
  {
   "cell_type": "code",
   "execution_count": null,
   "id": "8f0d323a-1656-4250-bb15-00388237788f",
   "metadata": {
    "tags": []
   },
   "outputs": [],
   "source": [
    "# Use Generation manager object to generate animation from the history of the data\n",
    "gen_model.animation(generated_data_name = 'check')"
   ]
  },
  {
   "cell_type": "markdown",
   "id": "8fff9b5e-0901-4f4e-bbba-f210276d9b03",
   "metadata": {},
   "source": [
    "* Get plot of the generated data."
   ]
  },
  {
   "cell_type": "code",
   "execution_count": 10,
   "id": "3ae0b621-0e81-4e68-a73f-23f734ce56b3",
   "metadata": {
    "tags": []
   },
   "outputs": [
    {
     "data": {
      "image/png": "[encoded data removed]",
      "text/plain": [
       "<Figure size 640x480 with 1 Axes>"
      ]
     },
     "execution_count": 10,
     "metadata": {},
     "output_type": "execute_result"
    }
   ],
   "source": [
    "lims = 3\n",
    "# gen_model.samples = chain[-1, :, :, :2].squeeze(-2) # get the last position of every sample, remove channel dimension\n",
    "gen_model.get_plot(limit_nb_orig_data = 200, # number of original data to plot\n",
    "                   xlim = (-lims, lims), ylim = (-lims, lims))"
   ]
  }
 ],
 "metadata": {
  "kernelspec": {
   "display_name": "Python 3 (ipykernel)",
   "language": "python",
   "name": "python3"
  },
  "language_info": {
   "codemirror_mode": {
    "name": "ipython",
    "version": 3
   },
   "file_extension": ".py",
   "mimetype": "text/x-python",
   "name": "python",
   "nbconvert_exporter": "python",
   "pygments_lexer": "ipython3",
   "version": "3.11.7"
  },
  "latex_envs": {
   "LaTeX_envs_menu_present": true,
   "autoclose": false,
   "autocomplete": false,
   "bibliofile": "biblio.bib",
   "cite_by": "apalike",
   "current_citInitial": 1,
   "eqLabelWithNumbers": true,
   "eqNumInitial": 1,
   "hotkeys": {
    "equation": "Ctrl-E",
    "itemize": "Ctrl-I"
   },
   "labels_anchors": false,
   "latex_user_defs": false,
   "report_style_numbering": false,
   "user_envs_cfg": false
  }
 },
 "nbformat": 4,
 "nbformat_minor": 5
}
