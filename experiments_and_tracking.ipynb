{
 "cells": [
  {
   "cell_type": "markdown",
   "id": "c74a0b5d-1355-48e2-b3e0-543f1dcd9088",
   "metadata": {},
   "source": [
    "The process can be defined from ($\\varphi, \\lambda, Q$) where\n",
    "* $\\varphi$ is the ODE dynamics - or the integral path defined by a vector field $\\Phi$\n",
    "* $\\lambda$ is the probability that a jumps occurs during the particle's movement\n",
    "* $Q$ is the Markov kernel used for the jump\n",
    "\n",
    "ZigZag sampler:\n",
    "\n",
    "* $\\Phi(x, v)$ = v\n",
    "* $\\lambda(x, v)_i = (v_i (\\partial \\psi(x))_i)_+$, with $\\pi \\propto \\exp(-\\psi(x))$ the target distribution. For Gaussian distribution: $$\\lambda(x, v)_i = (v_i x_i)_+ $$\n",
    "* Q reverses speed.\n",
    "\n",
    "For the reverse process, we essentially just need to compute, for all $i$:\n",
    "$$ \\bar \\lambda_i = \\lambda_i \\dfrac{p_t(x_t, R_i v_t)}{p_t(x_t, v_t)} $$\n",
    "Notations:\n",
    "$$ s_{\\theta}(x, R v, t) = \\begin{pmatrix} s_{\\theta}(x, R_1 v, t)_1 \\\\ \\cdots \\\\ s_{\\theta}(x, R_d v, t)_d \\end{pmatrix}$$\n",
    "where $R_i v = \\begin{pmatrix} v_1 \\\\ \\cdot \\\\ -v_i \\\\ \\cdot \\\\ v_n \\end{pmatrix}$\n",
    "* Fit the model by minimizing:\n",
    "     $$ \\mathbb{E}_{t, x, v} \\|  s_{\\theta}(x, v, t) - \\dfrac{p_t(x_t, R v_t)}{p_t(x_t, v_t)}\\|^2 =  \\mathbb{E}_{t, x, v} \\frac12 s_{\\theta}(x, v, t)^2 - s_{\\theta}(x, R v, t)$$\n",
    "\n",
    "\n",
    "\n",
    "Current Limitations\n",
    "* If the dimension is $d$, we need $d+1$ forward pass, because:\n",
    "$$ \\mathbb{E}_{t, x, v} \\frac12 s_{\\theta}(x, v, t)^2 - s_{\\theta}(x, R v, t) = \\mathbb{E}_{t, x, v} \\sum_{i=1}^d \\frac12 s_{\\theta}(x, v, t)_i^2 - s_{\\theta}(x, R_i v, t)_i$$\n",
    "* The loss is unstable."
   ]
  },
  {
   "cell_type": "markdown",
   "id": "5f86a9b6",
   "metadata": {},
   "source": [
    "**Symmetrised ratio matching** we introduce the function $g(r) = \\frac{1}{1+r}$ and define the objective function\n",
    "\\begin{equation}\n",
    "    J_{ERM}(\\theta) = \\sum_{i=1}^d \\mathbb{E}_{p_t}\\left[ \\left(g(s_\\theta(X_t,V_t,t)[i]) - g(r_i(X_t,V_t,t)) \\right)^2 + \\left(g(s_\\theta(X_t,R_iV_t,t)[i]) - g(r_i(X_t,R_iV_t,t)) \\right)^2 \\right]\n",
    "\\end{equation}\n",
    "which is equivalent, as an objective function, to:\n",
    "\\begin{equation}\n",
    "    J_{IRM}(\\theta) = \\sum_{i=1}^d \\mathbb{E}_{p_t}\\left[ \\frac{1}{(1 + s_\\theta(x,v,t)[i])^2} +\\frac{1}{(1 + s_\\theta(x,R_i v,t)[i])^2}  - \\frac{2}{1 + s_\\theta(x,v,t)[i]}\\right]\n",
    "\\end{equation}\n",
    "\n",
    "\n",
    "**KL minimisation** Focus on the score entropy:\n",
    "\\begin{equation}\n",
    "    J_{ERM}(\\theta) =  \\sum_{i=1}^d w_i\\mathbb{E}_{p_t}\\left[ s_\\theta(X_t,V_t,t)[i] -r_i(X_t,V_t,t)  - \\Big( \\log s_\\theta(X_t,R_iV_t,t)[i]) - \\log r_i(X_t,R_iV_t,t)\\Big) \\right].\n",
    "\\end{equation}\n",
    "where $\\{w_i\\}$ is a sequence of weights. Also this objective function considers the error in the estimation of both $r_i(x,v,t)$ and $r_i(x,R_iv,t)$, encouraging stable solutions. Clearly the implicit formulation has objective function \n",
    "\\begin{equation}\n",
    "    J_{IRM}(\\theta) =  \\sum_{i=1}^d w_i\\mathbb{E}_{p_t}\\left[ s_\\theta(X_t,V_t,t)[i] -  \\log s_\\theta(X_t,R_iV_t,t)[i]) \\right].\n",
    "\\end{equation}\n",
    "\n",
    "Question: shouldn't it be\n",
    "\\begin{equation}\n",
    "    J_{IRM}(\\theta) =  \\sum_{i=1}^d w_i\\mathbb{E}_{p_t}\\left[ s_\\theta(X_t,V_t,t)[i] +  \\log s_\\theta(X_t,R_iV_t,t)[i]) \\right] \\quad ?\n",
    "\\end{equation}"
   ]
  },
  {
   "cell_type": "markdown",
   "id": "6ca054cb",
   "metadata": {},
   "source": [
    "TODO:\n",
    "* Mixing time of pdmp (time horizon?). (Andrea)\n",
    "* Dimension problem. Think of it today: first architecture is outputting (Dario)\n",
    "$$r_t(x, v)_1, r_t(x, R_1v)_1, \\cdots$$ \n",
    "Second one: (Dario)\n",
    "$$r_t(x, 1, v_{[2:d]})_1, r_t(x, -1, v_{[2:d]})_1, \\cdots$$\n",
    "Third one: (Andrea)\n",
    "Coordinate descent on the loss \n",
    "* Monte-Carlo to plot real density ratio, compare with model. (Dario)\n",
    "* Add evaluation metrics, and loss metrics. (Dario)\n",
    "* Experiments: \n",
    "    * Other datasets. $\\mathcal{N}(\\mu, \\sigma^2 I_2)$ instead of mixture. (Dario).\n",
    "    * Increase dimensions of the data distribution (Dario).\n",
    "    * Study effect of the number of reverse steps. Effect of the backward sampling (spliting scheme) (Andrea)\n",
    "\n",
    "\n",
    "Connect to github, maybe andrea has his own branch, and then you can update the code. \n",
    "\n",
    "\n",
    "* Architecture. Change the network architecture. Receives $R$ as an argument, and is made invariant on speed?\n",
    "    $$ s_{\\theta}(x, v, R) : \\quad  s_{\\theta}(x, Rv, R) = s_{\\theta}(x, v, R)$$ \n",
    "    Take the component $i$ as an input. Idea of copula? Take a single dimension as input too? outputs a single value."
   ]
  },
  {
   "cell_type": "markdown",
   "id": "0cae04b9-aa5a-4d36-838d-838a0835bb1e",
   "metadata": {
    "tags": []
   },
   "source": [
    "# PDMP"
   ]
  },
  {
   "cell_type": "markdown",
   "id": "c460a9a9-5912-49c1-a79d-65c1fdbe7758",
   "metadata": {
    "jp-MarkdownHeadingCollapsed": true,
    "tags": []
   },
   "source": [
    "## Setup"
   ]
  },
  {
   "cell_type": "markdown",
   "id": "65b2a3b2",
   "metadata": {},
   "source": [
    "* Prepare all our objects"
   ]
  },
  {
   "cell_type": "code",
   "execution_count": 4,
   "id": "a9c5ecc1-d98a-47b6-84c5-438484172c0d",
   "metadata": {
    "tags": []
   },
   "outputs": [
    {
     "name": "stdout",
     "output_type": "stream",
     "text": [
      "0\n"
     ]
    }
   ],
   "source": [
    "from IPython.display import HTML\n",
    "from IPython.display import display\n",
    "import os\n",
    "import yaml\n",
    "import matplotlib.pyplot as plt\n",
    "from matplotlib.widgets import Slider, Button, RadioButtons\n",
    "\n",
    "import numpy as np\n",
    "import torch\n",
    "from torch.utils.data import TensorDataset\n",
    "from torch.utils.data import DataLoader\n",
    "import initial_code.pdmp as PDMP\n",
    "import Data as Data\n",
    "from Model import LevyDiffusionModel\n",
    "import torch.optim as optim\n",
    "import torch.nn as nn\n",
    "import Generate as Gen\n",
    "import matplotlib.pyplot as plt\n",
    "import evaluate.Eval as Eval\n",
    "import Manager \n",
    "\n",
    "%matplotlib inline\n",
    "\n",
    "p_model_2d = {\n",
    "    'act' : 'silu',\n",
    "    'skip_connection' : True,\n",
    "    'group_norm' : True,\n",
    "    'dropout_rate' : .0,\n",
    "    'nblocks' : 2,\n",
    "    'nunits' : 64,\n",
    "    'use_a_t' : False,\n",
    "    'no_a': True,\n",
    "    'a_pos_emb': False, # cannot have no_a and a_pos_emb\n",
    "    'a_emb_size': 32,\n",
    "    'time_emb_type' : 'learnable',#'learnable',# 'one_dimensional_input',\n",
    "    'time_emb_size' : 8, \n",
    "    'compute_gamma': False,\n",
    "}\n",
    "\n",
    "p_data_2d = {\n",
    "    'nfeatures' : 2, # if data_type is 2d, will just project on first dimension\n",
    "    'nsamples' : 4*8*1024,\n",
    "    #'bs': ..., may need to add\n",
    "    'dataset' : 'gmm_2',\n",
    "    'std' : 0.1, # 0.5, 0.05,\n",
    "    'n_mixture' : 2, # must be square. set to None if not a grid mixture\n",
    "    'normalize' : True,\n",
    "    #'weights': np.array([1/2]*2),\n",
    "    'weights': None,#[.01, .1, .3, \n",
    "               # .2, .02, .15,\n",
    "               # .02, .15, .05],# None, #np.array([.05, .95]),\n",
    "    'theta': 1.,\n",
    "    'alpha': 2.,\n",
    "    #'isotropic': True\n",
    "}\n",
    "\n",
    "device = 'mps'\n",
    "\n",
    "# original data, get dataloader\n",
    "gmm_2 = Data.Generator(**p_data_2d)#('gmm_2', n_samples = 32000, theta=1, std = 0.1)\n",
    "GMM2 = gmm_2.generate()\n",
    "GMM2 = GMM2.unsqueeze(1) # add channel\n",
    "dataset = TensorDataset(GMM2, torch.tensor([0.]).repeat(GMM2.shape[0])) #attached a class to the data, will be useful on other datasets\n",
    "data = DataLoader(dataset, \n",
    "                batch_size=p_data_2d['nsamples'] // 8, \n",
    "                shuffle=True, \n",
    "                num_workers=0)\n",
    "\n",
    "# model\n",
    "model = LevyDiffusionModel({'data': {'nfeatures': p_data_2d['nfeatures']}, 'model':p_model_2d, 'device': 'cpu'}).to(device)\n",
    "\n",
    "# optimizer\n",
    "optimizer = optim.AdamW(model.parameters(), \n",
    "                        lr=1e-3, \n",
    "                        betas=(0.9, 0.99)) # beta_2 0.95 instead of 0.999\n",
    "\n",
    "# PDMP class\n",
    "pdmp = PDMP.PDMP(time_horizon = 8, reverse_steps = 200, device=device)\n",
    "\n",
    "# Manager for data generation\n",
    "gen_model = Gen.GenerationManager(model, pdmp, data)\n",
    "\n",
    "eval_class = Eval.Eval(model, pdmp, data, is_image=False)\n",
    "manager = Manager.Manager(model, \n",
    "                 data,\n",
    "                 pdmp, \n",
    "                 optimizer,\n",
    "                 learning_schedule = None,\n",
    "                 eval = eval_class,\n",
    "                 ema_rates = None,)\n"
   ]
  },
  {
   "cell_type": "code",
   "execution_count": 5,
   "id": "51b1b1e2-f91d-4799-addd-e60554af38b3",
   "metadata": {
    "tags": []
   },
   "outputs": [],
   "source": [
    "# can use this to load a model, optimizer, learning schedule, and eval metrics\n",
    "\n",
    "MODEL_PATH = 'models/model.pt'\n",
    "EVAL_PATH = 'models/eval_model.pt'\n",
    "\n",
    "manager.load(MODEL_PATH)\n",
    "manager.load_eval_metrics(EVAL_PATH)"
   ]
  },
  {
   "cell_type": "markdown",
   "id": "025d9096-9466-4f2e-9d77-19e283bb696c",
   "metadata": {
    "jp-MarkdownHeadingCollapsed": true,
    "tags": []
   },
   "source": [
    "## Look at the noised data"
   ]
  },
  {
   "cell_type": "code",
   "execution_count": 204,
   "id": "d5639bc1-1a7e-4ec3-93df-208e6e74fa34",
   "metadata": {
    "tags": []
   },
   "outputs": [
    {
     "name": "stdout",
     "output_type": "stream",
     "text": [
      "torch.Size([32768, 1, 2])\n"
     ]
    }
   ],
   "source": [
    "# clone data, since it will be modified by forward process\n",
    "data_clone = GMM2.clone()\n",
    "# orint its shape\n",
    "print(data_clone.shape)\n",
    "# get a unit time horizon\n",
    "time_horizons = torch.ones(data_clone.shape) \n",
    "for i in range(int(pdmp.T)):\n",
    "    t = time_horizons.clone()\n",
    "    pdmp.forward(data_clone, t)\n",
    "#* pdmp.T\n",
    "# forward process for pmdp.T time units\n",
    "#pdmp.forward(data_clone, time_horizons)"
   ]
  },
  {
   "cell_type": "code",
   "execution_count": 207,
   "id": "40a432d4-5754-4e1d-a629-de947e0f673c",
   "metadata": {
    "tags": []
   },
   "outputs": [
    {
     "data": {
      "image/png": "[encoded data removed]",
      "text/plain": [
       "<Figure size 640x480 with 1 Axes>"
      ]
     },
     "metadata": {},
     "output_type": "display_data"
    }
   ],
   "source": [
    "# look at histogram of one component at the last timestep\n",
    "\n",
    "pos = data_clone.squeeze(1) # remove channel dimension\n",
    "import scipy.stats as stats\n",
    "X = np.linspace(-3, 3, 100)\n",
    "Y = stats.norm.pdf(X, 0, 1)\n",
    "plt.plot(X, Y, color='red')\n",
    "plt.hist(pos[:, 0], bins='auto', density=True)\n",
    "plt.show()"
   ]
  },
  {
   "cell_type": "markdown",
   "id": "53c53dfc",
   "metadata": {},
   "source": [
    "* Still need some work to get to the Monte-Carlo estimation for every possible values of speed."
   ]
  },
  {
   "cell_type": "code",
   "execution_count": 9,
   "id": "d7f6e033",
   "metadata": {},
   "outputs": [],
   "source": [
    "# clone data, since it will be modified by forward process\n",
    "M = 1\n",
    "L = []\n",
    "lims = 3\n",
    "T = np.linspace(0, 5, 100)\n",
    "for t in T:\n",
    "    # Define the number of bins in each dimension\n",
    "    num_bins = 100  # You can adjust this value as needed\n",
    "    tmp = []\n",
    "    for m in range(M):\n",
    "        data_clone = GMM2.clone()\n",
    "        pdmp.forward(data_clone, torch.ones(data_clone.shape)*t)\n",
    "        data_clone = data_clone.clamp(-lims, lims).squeeze(1).numpy()\n",
    "        # Compute the 2D histogram\n",
    "        hist, x_edges, y_edges = np.histogram2d(data_clone[:,0], data_clone[:,1], bins=num_bins, range=[[-lims, lims], [-lims, lims]], density=True)\n",
    "        tmp.append(hist)\n",
    "        # 'hist' contains the 2D histogram values\n",
    "        # 'x_edges' and 'y_edges' are the bin edges in the x and y dimensions, respectively\n",
    "    tmp = np.array(tmp)\n",
    "    tmp = tmp.mean(axis = 0)\n",
    "    L.append(tmp)\n",
    "L = np.array(L)"
   ]
  },
  {
   "cell_type": "code",
   "execution_count": 11,
   "id": "d5e25eaa",
   "metadata": {},
   "outputs": [
    {
     "data": {
      "image/png": "[encoded data removed]",
      "text/plain": [
       "<Figure size 640x480 with 2 Axes>"
      ]
     },
     "metadata": {},
     "output_type": "display_data"
    }
   ],
   "source": [
    "plt.imshow(L[5], origin='lower', aspect='auto')#extent=[x_edges[0], x_edges[-1], y_edges[0], y_edges[-1]])\n",
    "plt.colorbar()  # Add a color bar to indicate the scale\n",
    "plt.xlabel('X')  # Label for the x-axis\n",
    "plt.ylabel('Y')  # Label for the y-axis\n",
    "plt.title('p_t(x) Heatmap')  # Title of the heatmap\n",
    "plt.show()  # Display the heatmap"
   ]
  },
  {
   "cell_type": "markdown",
   "id": "34ff327c-f615-4cb8-8ca6-211303876bb5",
   "metadata": {
    "jp-MarkdownHeadingCollapsed": true,
    "tags": []
   },
   "source": [
    "## Train the model"
   ]
  },
  {
   "cell_type": "code",
   "execution_count": 4,
   "id": "6c28d0bc",
   "metadata": {},
   "outputs": [
    {
     "name": "stderr",
     "output_type": "stream",
     "text": [
      " 20%|████████████████████████▍                                                                                                 | 1/5 [00:00<00:01,  2.75it/s]"
     ]
    },
    {
     "name": "stdout",
     "output_type": "stream",
     "text": [
      "epoch_loss :-1.1158022284507751\n"
     ]
    },
    {
     "name": "stderr",
     "output_type": "stream",
     "text": [
      " 40%|████████████████████████████████████████████████▊                                                                         | 2/5 [00:00<00:01,  2.83it/s]"
     ]
    },
    {
     "name": "stdout",
     "output_type": "stream",
     "text": [
      "epoch_loss :-1.1350258141756058\n"
     ]
    },
    {
     "name": "stderr",
     "output_type": "stream",
     "text": [
      " 60%|█████████████████████████████████████████████████████████████████████████▏                                                | 3/5 [00:01<00:00,  2.85it/s]"
     ]
    },
    {
     "name": "stdout",
     "output_type": "stream",
     "text": [
      "epoch_loss :-1.14754718542099\n"
     ]
    },
    {
     "name": "stderr",
     "output_type": "stream",
     "text": [
      " 80%|█████████████████████████████████████████████████████████████████████████████████████████████████▌                        | 4/5 [00:01<00:00,  2.89it/s]"
     ]
    },
    {
     "name": "stdout",
     "output_type": "stream",
     "text": [
      "epoch_loss :-1.157952457666397\n"
     ]
    },
    {
     "name": "stderr",
     "output_type": "stream",
     "text": [
      "100%|██████████████████████████████████████████████████████████████████████████████████████████████████████████████████████████| 5/5 [00:01<00:00,  2.87it/s]\n"
     ]
    },
    {
     "name": "stdout",
     "output_type": "stream",
     "text": [
      "epoch_loss :-1.1625685542821884\n"
     ]
    },
    {
     "name": "stderr",
     "output_type": "stream",
     "text": [
      "100%|█████████████████████████████████████████████████████████████████████████████████████████████████████████████████████| 200/200 [00:00<00:00, 377.16it/s]\n"
     ]
    },
    {
     "name": "stdout",
     "output_type": "stream",
     "text": [
      "wasserstein\n",
      "\tlosses_batch = -1.166934847831726\n",
      "\twass = 0.24724538494274254\n",
      "\tprecision = 0.36182625516031375\n",
      "\trecall = 0.9127666590693231\n",
      "\tdensity = 0.0\n",
      "\tcoverage = 0.0\n",
      "\tfid = 0.0\n",
      "\tf_1_pr = 0.5182249774012823\n",
      "\tf_1_dc = 0.0\n",
      "\tfig = Figure(640x480)\n"
     ]
    },
    {
     "name": "stderr",
     "output_type": "stream",
     "text": [
      " 20%|████████████████████████▍                                                                                                 | 1/5 [00:00<00:01,  2.92it/s]"
     ]
    },
    {
     "name": "stdout",
     "output_type": "stream",
     "text": [
      "epoch_loss :-1.1697364896535873\n"
     ]
    },
    {
     "name": "stderr",
     "output_type": "stream",
     "text": [
      " 40%|████████████████████████████████████████████████▊                                                                         | 2/5 [00:00<00:01,  2.92it/s]"
     ]
    },
    {
     "name": "stdout",
     "output_type": "stream",
     "text": [
      "epoch_loss :-1.171704962849617\n"
     ]
    },
    {
     "name": "stderr",
     "output_type": "stream",
     "text": [
      " 60%|█████████████████████████████████████████████████████████████████████████▏                                                | 3/5 [00:01<00:00,  2.93it/s]"
     ]
    },
    {
     "name": "stdout",
     "output_type": "stream",
     "text": [
      "epoch_loss :-1.1793601214885712\n"
     ]
    },
    {
     "name": "stderr",
     "output_type": "stream",
     "text": [
      " 80%|█████████████████████████████████████████████████████████████████████████████████████████████████▌                        | 4/5 [00:01<00:00,  2.92it/s]"
     ]
    },
    {
     "name": "stdout",
     "output_type": "stream",
     "text": [
      "epoch_loss :-1.1839739233255386\n"
     ]
    },
    {
     "name": "stderr",
     "output_type": "stream",
     "text": [
      "100%|██████████████████████████████████████████████████████████████████████████████████████████████████████████████████████████| 5/5 [00:01<00:00,  2.92it/s]\n"
     ]
    },
    {
     "name": "stdout",
     "output_type": "stream",
     "text": [
      "epoch_loss :-1.184232160449028\n"
     ]
    },
    {
     "name": "stderr",
     "output_type": "stream",
     "text": [
      "100%|█████████████████████████████████████████████████████████████████████████████████████████████████████████████████████| 200/200 [00:00<00:00, 384.52it/s]\n"
     ]
    },
    {
     "name": "stdout",
     "output_type": "stream",
     "text": [
      "wasserstein\n",
      "\tlosses_batch = -1.1840004920959473\n",
      "\twass = 0.19992657243771883\n",
      "\tprecision = 0.5264652554115686\n",
      "\trecall = 0.9441663245305041\n",
      "\tdensity = 0.0\n",
      "\tcoverage = 0.0\n",
      "\tfid = 0.0\n",
      "\tf_1_pr = 0.6759963161059457\n",
      "\tf_1_dc = 0.0\n",
      "\tfig = Figure(640x480)\n"
     ]
    },
    {
     "name": "stderr",
     "output_type": "stream",
     "text": [
      " 20%|████████████████████████▍                                                                                                 | 1/5 [00:00<00:01,  2.88it/s]"
     ]
    },
    {
     "name": "stdout",
     "output_type": "stream",
     "text": [
      "epoch_loss :-1.1835781931877136\n"
     ]
    },
    {
     "name": "stderr",
     "output_type": "stream",
     "text": [
      " 40%|████████████████████████████████████████████████▊                                                                         | 2/5 [00:00<00:01,  2.89it/s]"
     ]
    },
    {
     "name": "stdout",
     "output_type": "stream",
     "text": [
      "epoch_loss :-1.1915116608142853\n"
     ]
    },
    {
     "name": "stderr",
     "output_type": "stream",
     "text": [
      " 60%|█████████████████████████████████████████████████████████████████████████▏                                                | 3/5 [00:01<00:00,  2.90it/s]"
     ]
    },
    {
     "name": "stdout",
     "output_type": "stream",
     "text": [
      "epoch_loss :-1.1897035986185074\n"
     ]
    },
    {
     "name": "stderr",
     "output_type": "stream",
     "text": [
      " 80%|█████████████████████████████████████████████████████████████████████████████████████████████████▌                        | 4/5 [00:01<00:00,  2.92it/s]"
     ]
    },
    {
     "name": "stdout",
     "output_type": "stream",
     "text": [
      "epoch_loss :-1.1905657052993774\n"
     ]
    },
    {
     "name": "stderr",
     "output_type": "stream",
     "text": [
      "100%|██████████████████████████████████████████████████████████████████████████████████████████████████████████████████████████| 5/5 [00:01<00:00,  2.93it/s]\n"
     ]
    },
    {
     "name": "stdout",
     "output_type": "stream",
     "text": [
      "epoch_loss :-1.197718322277069\n"
     ]
    },
    {
     "name": "stderr",
     "output_type": "stream",
     "text": [
      "100%|█████████████████████████████████████████████████████████████████████████████████████████████████████████████████████| 200/200 [00:00<00:00, 372.59it/s]\n"
     ]
    },
    {
     "name": "stdout",
     "output_type": "stream",
     "text": [
      "wasserstein\n",
      "\tlosses_batch = -1.2025096416473389\n",
      "\twass = 0.19407226740601963\n",
      "\tprecision = 0.533222640868414\n",
      "\trecall = 0.9379930597774111\n",
      "\tdensity = 0.0\n",
      "\tcoverage = 0.0\n",
      "\tfid = 0.0\n",
      "\tf_1_pr = 0.6799263170331835\n",
      "\tf_1_dc = 0.0\n",
      "\tfig = Figure(640x480)\n"
     ]
    },
    {
     "name": "stderr",
     "output_type": "stream",
     "text": [
      " 20%|████████████████████████▍                                                                                                 | 1/5 [00:00<00:01,  2.87it/s]"
     ]
    },
    {
     "name": "stdout",
     "output_type": "stream",
     "text": [
      "epoch_loss :-1.1981469839811325\n"
     ]
    },
    {
     "name": "stderr",
     "output_type": "stream",
     "text": [
      " 40%|████████████████████████████████████████████████▊                                                                         | 2/5 [00:00<00:01,  2.90it/s]"
     ]
    },
    {
     "name": "stdout",
     "output_type": "stream",
     "text": [
      "epoch_loss :-1.202369436621666\n"
     ]
    },
    {
     "name": "stderr",
     "output_type": "stream",
     "text": [
      " 60%|█████████████████████████████████████████████████████████████████████████▏                                                | 3/5 [00:01<00:00,  2.93it/s]"
     ]
    },
    {
     "name": "stdout",
     "output_type": "stream",
     "text": [
      "epoch_loss :-1.1992579400539398\n"
     ]
    },
    {
     "name": "stderr",
     "output_type": "stream",
     "text": [
      " 80%|█████████████████████████████████████████████████████████████████████████████████████████████████▌                        | 4/5 [00:01<00:00,  2.91it/s]"
     ]
    },
    {
     "name": "stdout",
     "output_type": "stream",
     "text": [
      "epoch_loss :-1.2007450312376022\n"
     ]
    },
    {
     "name": "stderr",
     "output_type": "stream",
     "text": [
      "100%|██████████████████████████████████████████████████████████████████████████████████████████████████████████████████████████| 5/5 [00:01<00:00,  2.91it/s]\n"
     ]
    },
    {
     "name": "stdout",
     "output_type": "stream",
     "text": [
      "epoch_loss :-1.2001334726810455\n"
     ]
    },
    {
     "name": "stderr",
     "output_type": "stream",
     "text": [
      "100%|█████████████████████████████████████████████████████████████████████████████████████████████████████████████████████| 200/200 [00:00<00:00, 371.09it/s]\n"
     ]
    },
    {
     "name": "stdout",
     "output_type": "stream",
     "text": [
      "wasserstein\n",
      "\tlosses_batch = -1.1900140047073364\n",
      "\twass = 0.155237169738127\n",
      "\tprecision = 0.6439461932193576\n",
      "\trecall = 0.9512803212516241\n",
      "\tdensity = 0.0\n",
      "\tcoverage = 0.0\n",
      "\tfid = 0.0\n",
      "\tf_1_pr = 0.7680079737862383\n",
      "\tf_1_dc = 0.0\n",
      "\tfig = Figure(640x480)\n"
     ]
    },
    {
     "name": "stderr",
     "output_type": "stream",
     "text": [
      " 20%|████████████████████████▍                                                                                                 | 1/5 [00:00<00:01,  2.89it/s]"
     ]
    },
    {
     "name": "stdout",
     "output_type": "stream",
     "text": [
      "epoch_loss :-1.205944150686264\n"
     ]
    },
    {
     "name": "stderr",
     "output_type": "stream",
     "text": [
      " 40%|████████████████████████████████████████████████▊                                                                         | 2/5 [00:00<00:01,  2.91it/s]"
     ]
    },
    {
     "name": "stdout",
     "output_type": "stream",
     "text": [
      "epoch_loss :-1.2076732069253922\n"
     ]
    },
    {
     "name": "stderr",
     "output_type": "stream",
     "text": [
      " 60%|█████████████████████████████████████████████████████████████████████████▏                                                | 3/5 [00:01<00:00,  2.81it/s]"
     ]
    },
    {
     "name": "stdout",
     "output_type": "stream",
     "text": [
      "epoch_loss :-1.206240475177765\n"
     ]
    },
    {
     "name": "stderr",
     "output_type": "stream",
     "text": [
      " 80%|█████████████████████████████████████████████████████████████████████████████████████████████████▌                        | 4/5 [00:01<00:00,  2.80it/s]"
     ]
    },
    {
     "name": "stdout",
     "output_type": "stream",
     "text": [
      "epoch_loss :-1.2116923034191132\n"
     ]
    },
    {
     "name": "stderr",
     "output_type": "stream",
     "text": [
      "100%|██████████████████████████████████████████████████████████████████████████████████████████████████████████████████████████| 5/5 [00:01<00:00,  2.84it/s]\n"
     ]
    },
    {
     "name": "stdout",
     "output_type": "stream",
     "text": [
      "epoch_loss :-1.2135950326919556\n"
     ]
    },
    {
     "name": "stderr",
     "output_type": "stream",
     "text": [
      "100%|█████████████████████████████████████████████████████████████████████████████████████████████████████████████████████| 200/200 [00:00<00:00, 366.60it/s]\n"
     ]
    },
    {
     "name": "stdout",
     "output_type": "stream",
     "text": [
      "wasserstein\n",
      "\tlosses_batch = -1.2149384021759033\n",
      "\twass = 0.14725089517065368\n",
      "\tprecision = 0.6750556930164245\n",
      "\trecall = 0.9621691167664603\n",
      "\tdensity = 0.0\n",
      "\tcoverage = 0.0\n",
      "\tfid = 0.0\n",
      "\tf_1_pr = 0.7934374510289977\n",
      "\tf_1_dc = 0.0\n",
      "\tfig = Figure(640x480)\n"
     ]
    },
    {
     "name": "stderr",
     "output_type": "stream",
     "text": [
      " 20%|████████████████████████▍                                                                                                 | 1/5 [00:00<00:01,  2.89it/s]"
     ]
    },
    {
     "name": "stdout",
     "output_type": "stream",
     "text": [
      "epoch_loss :-1.2140066921710968\n"
     ]
    },
    {
     "name": "stderr",
     "output_type": "stream",
     "text": [
      " 40%|████████████████████████████████████████████████▊                                                                         | 2/5 [00:00<00:01,  2.93it/s]"
     ]
    },
    {
     "name": "stdout",
     "output_type": "stream",
     "text": [
      "epoch_loss :-1.219333603978157\n"
     ]
    },
    {
     "name": "stderr",
     "output_type": "stream",
     "text": [
      " 60%|█████████████████████████████████████████████████████████████████████████▏                                                | 3/5 [00:01<00:00,  2.92it/s]"
     ]
    },
    {
     "name": "stdout",
     "output_type": "stream",
     "text": [
      "epoch_loss :-1.2141717970371246\n"
     ]
    },
    {
     "name": "stderr",
     "output_type": "stream",
     "text": [
      " 80%|█████████████████████████████████████████████████████████████████████████████████████████████████▌                        | 4/5 [00:01<00:00,  2.88it/s]"
     ]
    },
    {
     "name": "stdout",
     "output_type": "stream",
     "text": [
      "epoch_loss :-1.2192165851593018\n"
     ]
    },
    {
     "name": "stderr",
     "output_type": "stream",
     "text": [
      "100%|██████████████████████████████████████████████████████████████████████████████████████████████████████████████████████████| 5/5 [00:01<00:00,  2.89it/s]\n"
     ]
    },
    {
     "name": "stdout",
     "output_type": "stream",
     "text": [
      "epoch_loss :-1.2152367532253265\n"
     ]
    },
    {
     "name": "stderr",
     "output_type": "stream",
     "text": [
      "100%|█████████████████████████████████████████████████████████████████████████████████████████████████████████████████████| 200/200 [00:00<00:00, 360.91it/s]\n"
     ]
    },
    {
     "name": "stdout",
     "output_type": "stream",
     "text": [
      "wasserstein\n",
      "\tlosses_batch = -1.2183053493499756\n",
      "\twass = 0.1470405790285124\n",
      "\tprecision = 0.6946042410067271\n",
      "\trecall = 0.9567293275317268\n",
      "\tdensity = 0.0\n",
      "\tcoverage = 0.0\n",
      "\tfid = 0.0\n",
      "\tf_1_pr = 0.8048625196752022\n",
      "\tf_1_dc = 0.0\n",
      "\tfig = Figure(640x480)\n"
     ]
    },
    {
     "name": "stderr",
     "output_type": "stream",
     "text": [
      " 20%|████████████████████████▍                                                                                                 | 1/5 [00:00<00:01,  2.88it/s]"
     ]
    },
    {
     "name": "stdout",
     "output_type": "stream",
     "text": [
      "epoch_loss :-1.2134421318769455\n"
     ]
    },
    {
     "name": "stderr",
     "output_type": "stream",
     "text": [
      " 40%|████████████████████████████████████████████████▊                                                                         | 2/5 [00:00<00:01,  2.86it/s]"
     ]
    },
    {
     "name": "stdout",
     "output_type": "stream",
     "text": [
      "epoch_loss :-1.2196184992790222\n"
     ]
    },
    {
     "name": "stderr",
     "output_type": "stream",
     "text": [
      " 60%|█████████████████████████████████████████████████████████████████████████▏                                                | 3/5 [00:00<00:00,  3.11it/s]"
     ]
    },
    {
     "name": "stdout",
     "output_type": "stream",
     "text": [
      "epoch_loss :-1.216254100203514\n"
     ]
    },
    {
     "name": "stderr",
     "output_type": "stream",
     "text": [
      " 80%|█████████████████████████████████████████████████████████████████████████████████████████████████▌                        | 4/5 [00:01<00:00,  2.81it/s]"
     ]
    },
    {
     "name": "stdout",
     "output_type": "stream",
     "text": [
      "epoch_loss :-1.2179359048604965\n"
     ]
    },
    {
     "name": "stderr",
     "output_type": "stream",
     "text": [
      "100%|██████████████████████████████████████████████████████████████████████████████████████████████████████████████████████████| 5/5 [00:01<00:00,  2.87it/s]\n"
     ]
    },
    {
     "name": "stdout",
     "output_type": "stream",
     "text": [
      "epoch_loss :-1.2210406363010406\n"
     ]
    },
    {
     "name": "stderr",
     "output_type": "stream",
     "text": [
      "100%|█████████████████████████████████████████████████████████████████████████████████████████████████████████████████████| 200/200 [00:00<00:00, 370.19it/s]\n"
     ]
    },
    {
     "name": "stdout",
     "output_type": "stream",
     "text": [
      "wasserstein\n",
      "\tlosses_batch = -1.2204642295837402\n",
      "\twass = 0.11179454505592415\n",
      "\tprecision = 0.7772016150280825\n",
      "\trecall = 0.9695718414536\n",
      "\tdensity = 0.0\n",
      "\tcoverage = 0.0\n",
      "\tfid = 0.0\n",
      "\tf_1_pr = 0.8627939682359056\n",
      "\tf_1_dc = 0.0\n",
      "\tfig = Figure(640x480)\n"
     ]
    },
    {
     "name": "stderr",
     "output_type": "stream",
     "text": [
      " 20%|████████████████████████▍                                                                                                 | 1/5 [00:00<00:01,  2.88it/s]"
     ]
    },
    {
     "name": "stdout",
     "output_type": "stream",
     "text": [
      "epoch_loss :-1.223308339715004\n"
     ]
    },
    {
     "name": "stderr",
     "output_type": "stream",
     "text": [
      " 40%|████████████████████████████████████████████████▊                                                                         | 2/5 [00:00<00:01,  2.90it/s]"
     ]
    },
    {
     "name": "stdout",
     "output_type": "stream",
     "text": [
      "epoch_loss :-1.2242056876420975\n"
     ]
    },
    {
     "name": "stderr",
     "output_type": "stream",
     "text": [
      " 60%|█████████████████████████████████████████████████████████████████████████▏                                                | 3/5 [00:01<00:00,  2.90it/s]"
     ]
    },
    {
     "name": "stdout",
     "output_type": "stream",
     "text": [
      "epoch_loss :-1.2249091267585754\n"
     ]
    },
    {
     "name": "stderr",
     "output_type": "stream",
     "text": [
      " 80%|█████████████████████████████████████████████████████████████████████████████████████████████████▌                        | 4/5 [00:01<00:00,  2.91it/s]"
     ]
    },
    {
     "name": "stdout",
     "output_type": "stream",
     "text": [
      "epoch_loss :-1.2267488688230515\n"
     ]
    },
    {
     "name": "stderr",
     "output_type": "stream",
     "text": [
      "100%|██████████████████████████████████████████████████████████████████████████████████████████████████████████████████████████| 5/5 [00:01<00:00,  2.91it/s]\n"
     ]
    },
    {
     "name": "stdout",
     "output_type": "stream",
     "text": [
      "epoch_loss :-1.2217301726341248\n"
     ]
    },
    {
     "name": "stderr",
     "output_type": "stream",
     "text": [
      "100%|█████████████████████████████████████████████████████████████████████████████████████████████████████████████████████| 200/200 [00:00<00:00, 375.73it/s]\n"
     ]
    },
    {
     "name": "stdout",
     "output_type": "stream",
     "text": [
      "wasserstein\n",
      "\tlosses_batch = -1.2231096029281616\n",
      "\twass = 0.1319490642027543\n",
      "\tprecision = 0.7716597354251485\n",
      "\trecall = 0.9671590115451606\n",
      "\tdensity = 0.0\n",
      "\tcoverage = 0.0\n",
      "\tfid = 0.0\n",
      "\tf_1_pr = 0.858419163312288\n",
      "\tf_1_dc = 0.0\n",
      "\tfig = Figure(640x480)\n"
     ]
    },
    {
     "name": "stderr",
     "output_type": "stream",
     "text": [
      " 20%|████████████████████████▍                                                                                                 | 1/5 [00:00<00:01,  2.92it/s]"
     ]
    },
    {
     "name": "stdout",
     "output_type": "stream",
     "text": [
      "epoch_loss :-1.2252970188856125\n"
     ]
    },
    {
     "name": "stderr",
     "output_type": "stream",
     "text": [
      " 40%|████████████████████████████████████████████████▊                                                                         | 2/5 [00:00<00:01,  2.89it/s]"
     ]
    },
    {
     "name": "stdout",
     "output_type": "stream",
     "text": [
      "epoch_loss :-1.2225830405950546\n"
     ]
    },
    {
     "name": "stderr",
     "output_type": "stream",
     "text": [
      " 60%|█████████████████████████████████████████████████████████████████████████▏                                                | 3/5 [00:01<00:00,  2.90it/s]"
     ]
    },
    {
     "name": "stdout",
     "output_type": "stream",
     "text": [
      "epoch_loss :-1.228162944316864\n"
     ]
    },
    {
     "name": "stderr",
     "output_type": "stream",
     "text": [
      " 80%|█████████████████████████████████████████████████████████████████████████████████████████████████▌                        | 4/5 [00:01<00:00,  2.91it/s]"
     ]
    },
    {
     "name": "stdout",
     "output_type": "stream",
     "text": [
      "epoch_loss :-1.2237017750740051\n"
     ]
    },
    {
     "name": "stderr",
     "output_type": "stream",
     "text": [
      "100%|██████████████████████████████████████████████████████████████████████████████████████████████████████████████████████████| 5/5 [00:01<00:00,  2.90it/s]\n"
     ]
    },
    {
     "name": "stdout",
     "output_type": "stream",
     "text": [
      "epoch_loss :-1.2325005531311035\n"
     ]
    },
    {
     "name": "stderr",
     "output_type": "stream",
     "text": [
      "100%|█████████████████████████████████████████████████████████████████████████████████████████████████████████████████████| 200/200 [00:00<00:00, 375.38it/s]\n"
     ]
    },
    {
     "name": "stdout",
     "output_type": "stream",
     "text": [
      "wasserstein\n",
      "\tlosses_batch = -1.2485285997390747\n",
      "\twass = 0.10186746321955496\n",
      "\tprecision = 0.8096206452631306\n",
      "\trecall = 0.9755787182086691\n",
      "\tdensity = 0.0\n",
      "\tcoverage = 0.0\n",
      "\tfid = 0.0\n",
      "\tf_1_pr = 0.8848856743988611\n",
      "\tf_1_dc = 0.0\n",
      "\tfig = Figure(640x480)\n"
     ]
    },
    {
     "name": "stderr",
     "output_type": "stream",
     "text": [
      " 20%|████████████████████████▍                                                                                                 | 1/5 [00:00<00:01,  2.85it/s]"
     ]
    },
    {
     "name": "stdout",
     "output_type": "stream",
     "text": [
      "epoch_loss :-1.2307194471359253\n"
     ]
    },
    {
     "name": "stderr",
     "output_type": "stream",
     "text": [
      " 40%|████████████████████████████████████████████████▊                                                                         | 2/5 [00:00<00:01,  2.93it/s]"
     ]
    },
    {
     "name": "stdout",
     "output_type": "stream",
     "text": [
      "epoch_loss :-1.2310233563184738\n"
     ]
    },
    {
     "name": "stderr",
     "output_type": "stream",
     "text": [
      " 60%|█████████████████████████████████████████████████████████████████████████▏                                                | 3/5 [00:01<00:00,  2.86it/s]"
     ]
    },
    {
     "name": "stdout",
     "output_type": "stream",
     "text": [
      "epoch_loss :-1.2308160215616226\n"
     ]
    },
    {
     "name": "stderr",
     "output_type": "stream",
     "text": [
      " 80%|█████████████████████████████████████████████████████████████████████████████████████████████████▌                        | 4/5 [00:01<00:00,  2.85it/s]"
     ]
    },
    {
     "name": "stdout",
     "output_type": "stream",
     "text": [
      "epoch_loss :-1.226310208439827\n"
     ]
    },
    {
     "name": "stderr",
     "output_type": "stream",
     "text": [
      "100%|██████████████████████████████████████████████████████████████████████████████████████████████████████████████████████████| 5/5 [00:01<00:00,  2.86it/s]\n"
     ]
    },
    {
     "name": "stdout",
     "output_type": "stream",
     "text": [
      "epoch_loss :-1.2324285805225372\n"
     ]
    },
    {
     "name": "stderr",
     "output_type": "stream",
     "text": [
      "100%|█████████████████████████████████████████████████████████████████████████████████████████████████████████████████████| 200/200 [00:00<00:00, 376.57it/s]\n"
     ]
    },
    {
     "name": "stdout",
     "output_type": "stream",
     "text": [
      "wasserstein\n",
      "\tlosses_batch = -1.2348639965057373\n",
      "\twass = 0.09430285615421427\n",
      "\tprecision = 0.8179303065695663\n",
      "\trecall = 0.9747943241364975\n",
      "\tdensity = 0.0\n",
      "\tcoverage = 0.0\n",
      "\tfid = 0.0\n",
      "\tf_1_pr = 0.8894994877927425\n",
      "\tf_1_dc = 0.0\n",
      "\tfig = Figure(640x480)\n"
     ]
    },
    {
     "name": "stderr",
     "output_type": "stream",
     "text": [
      " 20%|████████████████████████▍                                                                                                 | 1/5 [00:00<00:01,  2.92it/s]"
     ]
    },
    {
     "name": "stdout",
     "output_type": "stream",
     "text": [
      "epoch_loss :-1.2293949574232101\n"
     ]
    },
    {
     "name": "stderr",
     "output_type": "stream",
     "text": [
      " 40%|████████████████████████████████████████████████▊                                                                         | 2/5 [00:00<00:01,  2.92it/s]"
     ]
    },
    {
     "name": "stdout",
     "output_type": "stream",
     "text": [
      "epoch_loss :-1.2324610501527786\n"
     ]
    },
    {
     "name": "stderr",
     "output_type": "stream",
     "text": [
      " 60%|█████████████████████████████████████████████████████████████████████████▏                                                | 3/5 [00:01<00:00,  2.92it/s]"
     ]
    },
    {
     "name": "stdout",
     "output_type": "stream",
     "text": [
      "epoch_loss :-1.2301676273345947\n"
     ]
    },
    {
     "name": "stderr",
     "output_type": "stream",
     "text": [
      " 80%|█████████████████████████████████████████████████████████████████████████████████████████████████▌                        | 4/5 [00:01<00:00,  2.93it/s]"
     ]
    },
    {
     "name": "stdout",
     "output_type": "stream",
     "text": [
      "epoch_loss :-1.2283284813165665\n"
     ]
    },
    {
     "name": "stderr",
     "output_type": "stream",
     "text": [
      "100%|██████████████████████████████████████████████████████████████████████████████████████████████████████████████████████████| 5/5 [00:01<00:00,  2.92it/s]\n"
     ]
    },
    {
     "name": "stdout",
     "output_type": "stream",
     "text": [
      "epoch_loss :-1.2281538099050522\n"
     ]
    },
    {
     "name": "stderr",
     "output_type": "stream",
     "text": [
      "100%|█████████████████████████████████████████████████████████████████████████████████████████████████████████████████████| 200/200 [00:00<00:00, 378.76it/s]\n"
     ]
    },
    {
     "name": "stdout",
     "output_type": "stream",
     "text": [
      "wasserstein\n",
      "\tlosses_batch = -1.2260687351226807\n",
      "\twass = 0.12422894274287223\n",
      "\tprecision = 0.8286013638241125\n",
      "\trecall = 0.9703172718576489\n",
      "\tdensity = 0.0\n",
      "\tcoverage = 0.0\n",
      "\tfid = 0.0\n",
      "\tf_1_pr = 0.8938772425342457\n",
      "\tf_1_dc = 0.0\n",
      "\tfig = Figure(640x480)\n"
     ]
    },
    {
     "name": "stderr",
     "output_type": "stream",
     "text": [
      " 20%|████████████████████████▍                                                                                                 | 1/5 [00:00<00:01,  2.47it/s]"
     ]
    },
    {
     "name": "stdout",
     "output_type": "stream",
     "text": [
      "epoch_loss :-1.2328909188508987\n"
     ]
    },
    {
     "name": "stderr",
     "output_type": "stream",
     "text": [
      " 40%|████████████████████████████████████████████████▊                                                                         | 2/5 [00:00<00:00,  3.00it/s]"
     ]
    },
    {
     "name": "stdout",
     "output_type": "stream",
     "text": [
      "epoch_loss :-1.229092001914978\n"
     ]
    },
    {
     "name": "stderr",
     "output_type": "stream",
     "text": [
      " 60%|█████████████████████████████████████████████████████████████████████████▏                                                | 3/5 [00:01<00:00,  2.96it/s]"
     ]
    },
    {
     "name": "stdout",
     "output_type": "stream",
     "text": [
      "epoch_loss :-1.2339872419834137\n"
     ]
    },
    {
     "name": "stderr",
     "output_type": "stream",
     "text": [
      " 80%|█████████████████████████████████████████████████████████████████████████████████████████████████▌                        | 4/5 [00:01<00:00,  2.92it/s]"
     ]
    },
    {
     "name": "stdout",
     "output_type": "stream",
     "text": [
      "epoch_loss :-1.23371222615242\n"
     ]
    },
    {
     "name": "stderr",
     "output_type": "stream",
     "text": [
      "100%|██████████████████████████████████████████████████████████████████████████████████████████████████████████████████████████| 5/5 [00:01<00:00,  2.89it/s]\n"
     ]
    },
    {
     "name": "stdout",
     "output_type": "stream",
     "text": [
      "epoch_loss :-1.2328500300645828\n"
     ]
    },
    {
     "name": "stderr",
     "output_type": "stream",
     "text": [
      "100%|█████████████████████████████████████████████████████████████████████████████████████████████████████████████████████| 200/200 [00:00<00:00, 385.48it/s]\n"
     ]
    },
    {
     "name": "stdout",
     "output_type": "stream",
     "text": [
      "wasserstein\n",
      "\tlosses_batch = -1.2444616556167603\n",
      "\twass = 0.07432587274142803\n",
      "\tprecision = 0.8494582293165969\n",
      "\trecall = 0.9713720460415506\n",
      "\tdensity = 0.0\n",
      "\tcoverage = 0.0\n",
      "\tfid = 0.0\n",
      "\tf_1_pr = 0.906333763673602\n",
      "\tf_1_dc = 0.0\n",
      "\tfig = Figure(640x480)\n"
     ]
    },
    {
     "name": "stderr",
     "output_type": "stream",
     "text": [
      " 20%|████████████████████████▍                                                                                                 | 1/5 [00:00<00:01,  2.88it/s]"
     ]
    },
    {
     "name": "stdout",
     "output_type": "stream",
     "text": [
      "epoch_loss :-1.2351175397634506\n"
     ]
    },
    {
     "name": "stderr",
     "output_type": "stream",
     "text": [
      " 40%|████████████████████████████████████████████████▊                                                                         | 2/5 [00:00<00:01,  2.90it/s]"
     ]
    },
    {
     "name": "stdout",
     "output_type": "stream",
     "text": [
      "epoch_loss :-1.2386227548122406\n"
     ]
    },
    {
     "name": "stderr",
     "output_type": "stream",
     "text": [
      " 60%|█████████████████████████████████████████████████████████████████████████▏                                                | 3/5 [00:01<00:00,  2.90it/s]"
     ]
    },
    {
     "name": "stdout",
     "output_type": "stream",
     "text": [
      "epoch_loss :-1.2342726439237595\n"
     ]
    },
    {
     "name": "stderr",
     "output_type": "stream",
     "text": [
      " 80%|█████████████████████████████████████████████████████████████████████████████████████████████████▌                        | 4/5 [00:01<00:00,  2.91it/s]"
     ]
    },
    {
     "name": "stdout",
     "output_type": "stream",
     "text": [
      "epoch_loss :-1.2342568635940552\n"
     ]
    },
    {
     "name": "stderr",
     "output_type": "stream",
     "text": [
      "100%|██████████████████████████████████████████████████████████████████████████████████████████████████████████████████████████| 5/5 [00:01<00:00,  2.90it/s]\n"
     ]
    },
    {
     "name": "stdout",
     "output_type": "stream",
     "text": [
      "epoch_loss :-1.2359152138233185\n"
     ]
    },
    {
     "name": "stderr",
     "output_type": "stream",
     "text": [
      "100%|█████████████████████████████████████████████████████████████████████████████████████████████████████████████████████| 200/200 [00:00<00:00, 378.75it/s]\n"
     ]
    },
    {
     "name": "stdout",
     "output_type": "stream",
     "text": [
      "wasserstein\n",
      "\tlosses_batch = -1.2387559413909912\n",
      "\twass = 0.08171247981119156\n",
      "\tprecision = 0.8841171463144357\n",
      "\trecall = 0.9767653633258037\n",
      "\tdensity = 0.0\n",
      "\tcoverage = 0.0\n",
      "\tfid = 0.0\n",
      "\tf_1_pr = 0.9281349049912299\n",
      "\tf_1_dc = 0.0\n",
      "\tfig = Figure(640x480)\n"
     ]
    },
    {
     "name": "stderr",
     "output_type": "stream",
     "text": [
      " 20%|████████████████████████▍                                                                                                 | 1/5 [00:00<00:01,  2.83it/s]"
     ]
    },
    {
     "name": "stdout",
     "output_type": "stream",
     "text": [
      "epoch_loss :-1.2398038357496262\n"
     ]
    },
    {
     "name": "stderr",
     "output_type": "stream",
     "text": [
      " 40%|████████████████████████████████████████████████▊                                                                         | 2/5 [00:00<00:01,  2.87it/s]"
     ]
    },
    {
     "name": "stdout",
     "output_type": "stream",
     "text": [
      "epoch_loss :-1.2336759865283966\n"
     ]
    },
    {
     "name": "stderr",
     "output_type": "stream",
     "text": [
      " 60%|█████████████████████████████████████████████████████████████████████████▏                                                | 3/5 [00:00<00:00,  3.18it/s]"
     ]
    },
    {
     "name": "stdout",
     "output_type": "stream",
     "text": [
      "epoch_loss :-1.2344270944595337\n"
     ]
    },
    {
     "name": "stderr",
     "output_type": "stream",
     "text": [
      " 80%|█████████████████████████████████████████████████████████████████████████████████████████████████▌                        | 4/5 [00:01<00:00,  3.06it/s]"
     ]
    },
    {
     "name": "stdout",
     "output_type": "stream",
     "text": [
      "epoch_loss :-1.2396529763936996\n"
     ]
    },
    {
     "name": "stderr",
     "output_type": "stream",
     "text": [
      "100%|██████████████████████████████████████████████████████████████████████████████████████████████████████████████████████████| 5/5 [00:01<00:00,  3.00it/s]\n"
     ]
    },
    {
     "name": "stdout",
     "output_type": "stream",
     "text": [
      "epoch_loss :-1.2329068034887314\n"
     ]
    },
    {
     "name": "stderr",
     "output_type": "stream",
     "text": [
      "100%|█████████████████████████████████████████████████████████████████████████████████████████████████████████████████████| 200/200 [00:00<00:00, 381.69it/s]\n"
     ]
    },
    {
     "name": "stdout",
     "output_type": "stream",
     "text": [
      "wasserstein\n",
      "\tlosses_batch = -1.2320160865783691\n",
      "\twass = 0.13095599393282917\n",
      "\tprecision = 0.849941891339446\n",
      "\trecall = 0.9805938460106264\n",
      "\tdensity = 0.0\n",
      "\tcoverage = 0.0\n",
      "\tfid = 0.0\n",
      "\tf_1_pr = 0.9106053174581692\n",
      "\tf_1_dc = 0.0\n",
      "\tfig = Figure(640x480)\n"
     ]
    },
    {
     "name": "stderr",
     "output_type": "stream",
     "text": [
      " 20%|████████████████████████▍                                                                                                 | 1/5 [00:00<00:01,  2.72it/s]"
     ]
    },
    {
     "name": "stdout",
     "output_type": "stream",
     "text": [
      "epoch_loss :-1.2324811667203903\n"
     ]
    },
    {
     "name": "stderr",
     "output_type": "stream",
     "text": [
      " 40%|████████████████████████████████████████████████▊                                                                         | 2/5 [00:00<00:01,  2.75it/s]"
     ]
    },
    {
     "name": "stdout",
     "output_type": "stream",
     "text": [
      "epoch_loss :-1.2371545881032944\n"
     ]
    },
    {
     "name": "stderr",
     "output_type": "stream",
     "text": [
      " 60%|█████████████████████████████████████████████████████████████████████████▏                                                | 3/5 [00:01<00:00,  2.77it/s]"
     ]
    },
    {
     "name": "stdout",
     "output_type": "stream",
     "text": [
      "epoch_loss :-1.2324413508176804\n"
     ]
    },
    {
     "name": "stderr",
     "output_type": "stream",
     "text": [
      " 80%|█████████████████████████████████████████████████████████████████████████████████████████████████▌                        | 4/5 [00:01<00:00,  2.78it/s]"
     ]
    },
    {
     "name": "stdout",
     "output_type": "stream",
     "text": [
      "epoch_loss :-1.2372807711362839\n"
     ]
    },
    {
     "name": "stderr",
     "output_type": "stream",
     "text": [
      "100%|██████████████████████████████████████████████████████████████████████████████████████████████████████████████████████████| 5/5 [00:01<00:00,  2.77it/s]\n"
     ]
    },
    {
     "name": "stdout",
     "output_type": "stream",
     "text": [
      "epoch_loss :-1.2356413155794144\n"
     ]
    },
    {
     "name": "stderr",
     "output_type": "stream",
     "text": [
      "100%|█████████████████████████████████████████████████████████████████████████████████████████████████████████████████████| 200/200 [00:00<00:00, 362.83it/s]\n"
     ]
    },
    {
     "name": "stdout",
     "output_type": "stream",
     "text": [
      "wasserstein\n",
      "\tlosses_batch = -1.2272928953170776\n",
      "\twass = 0.08775277817364795\n",
      "\tprecision = 0.8690224707829497\n",
      "\trecall = 0.9705157614359604\n",
      "\tdensity = 0.0\n",
      "\tcoverage = 0.0\n",
      "\tfid = 0.0\n",
      "\tf_1_pr = 0.9169692590944826\n",
      "\tf_1_dc = 0.0\n",
      "\tfig = Figure(640x480)\n"
     ]
    },
    {
     "name": "stderr",
     "output_type": "stream",
     "text": [
      " 20%|████████████████████████▍                                                                                                 | 1/5 [00:00<00:01,  2.82it/s]"
     ]
    },
    {
     "name": "stdout",
     "output_type": "stream",
     "text": [
      "epoch_loss :-1.2393386214971542\n"
     ]
    },
    {
     "name": "stderr",
     "output_type": "stream",
     "text": [
      " 40%|████████████████████████████████████████████████▊                                                                         | 2/5 [00:00<00:01,  2.89it/s]"
     ]
    },
    {
     "name": "stdout",
     "output_type": "stream",
     "text": [
      "epoch_loss :-1.241826593875885\n"
     ]
    },
    {
     "name": "stderr",
     "output_type": "stream",
     "text": [
      " 60%|█████████████████████████████████████████████████████████████████████████▏                                                | 3/5 [00:01<00:00,  2.89it/s]"
     ]
    },
    {
     "name": "stdout",
     "output_type": "stream",
     "text": [
      "epoch_loss :-1.2365231215953827\n"
     ]
    },
    {
     "name": "stderr",
     "output_type": "stream",
     "text": [
      " 80%|█████████████████████████████████████████████████████████████████████████████████████████████████▌                        | 4/5 [00:01<00:00,  2.87it/s]"
     ]
    },
    {
     "name": "stdout",
     "output_type": "stream",
     "text": [
      "epoch_loss :-1.2386260777711868\n"
     ]
    },
    {
     "name": "stderr",
     "output_type": "stream",
     "text": [
      "100%|██████████████████████████████████████████████████████████████████████████████████████████████████████████████████████████| 5/5 [00:01<00:00,  2.87it/s]\n"
     ]
    },
    {
     "name": "stdout",
     "output_type": "stream",
     "text": [
      "epoch_loss :-1.239407703280449\n"
     ]
    },
    {
     "name": "stderr",
     "output_type": "stream",
     "text": [
      "100%|█████████████████████████████████████████████████████████████████████████████████████████████████████████████████████| 200/200 [00:00<00:00, 380.77it/s]\n"
     ]
    },
    {
     "name": "stdout",
     "output_type": "stream",
     "text": [
      "wasserstein\n",
      "\tlosses_batch = -1.2379777431488037\n",
      "\twass = 0.07200821349525452\n",
      "\tprecision = 0.9252502872853876\n",
      "\trecall = 0.9857541482321355\n",
      "\tdensity = 0.0\n",
      "\tcoverage = 0.0\n",
      "\tfid = 0.0\n",
      "\tf_1_pr = 0.9545444185194124\n",
      "\tf_1_dc = 0.0\n",
      "\tfig = Figure(640x480)\n"
     ]
    },
    {
     "name": "stderr",
     "output_type": "stream",
     "text": [
      " 20%|████████████████████████▍                                                                                                 | 1/5 [00:00<00:01,  2.95it/s]"
     ]
    },
    {
     "name": "stdout",
     "output_type": "stream",
     "text": [
      "epoch_loss :-1.2393907308578491\n"
     ]
    },
    {
     "name": "stderr",
     "output_type": "stream",
     "text": [
      " 40%|████████████████████████████████████████████████▊                                                                         | 2/5 [00:00<00:01,  2.90it/s]"
     ]
    },
    {
     "name": "stdout",
     "output_type": "stream",
     "text": [
      "epoch_loss :-1.2390208691358566\n"
     ]
    },
    {
     "name": "stderr",
     "output_type": "stream",
     "text": [
      " 60%|█████████████████████████████████████████████████████████████████████████▏                                                | 3/5 [00:00<00:00,  3.16it/s]"
     ]
    },
    {
     "name": "stdout",
     "output_type": "stream",
     "text": [
      "epoch_loss :-1.239690974354744\n"
     ]
    },
    {
     "name": "stderr",
     "output_type": "stream",
     "text": [
      " 80%|█████████████████████████████████████████████████████████████████████████████████████████████████▌                        | 4/5 [00:01<00:00,  3.02it/s]"
     ]
    },
    {
     "name": "stdout",
     "output_type": "stream",
     "text": [
      "epoch_loss :-1.2396734803915024\n"
     ]
    },
    {
     "name": "stderr",
     "output_type": "stream",
     "text": [
      "100%|██████████████████████████████████████████████████████████████████████████████████████████████████████████████████████████| 5/5 [00:01<00:00,  2.99it/s]\n"
     ]
    },
    {
     "name": "stdout",
     "output_type": "stream",
     "text": [
      "epoch_loss :-1.238381803035736\n"
     ]
    },
    {
     "name": "stderr",
     "output_type": "stream",
     "text": [
      "100%|█████████████████████████████████████████████████████████████████████████████████████████████████████████████████████| 200/200 [00:00<00:00, 381.30it/s]\n"
     ]
    },
    {
     "name": "stdout",
     "output_type": "stream",
     "text": [
      "wasserstein\n",
      "\tlosses_batch = -1.2415660619735718\n",
      "\twass = 0.048325376623750665\n",
      "\tprecision = 0.9057688638697527\n",
      "\trecall = 0.987043520612647\n",
      "\tdensity = 0.0\n",
      "\tcoverage = 0.0\n",
      "\tfid = 0.0\n",
      "\tf_1_pr = 0.9446612834792885\n",
      "\tf_1_dc = 0.0\n",
      "\tfig = Figure(640x480)\n"
     ]
    },
    {
     "name": "stderr",
     "output_type": "stream",
     "text": [
      " 20%|████████████████████████▍                                                                                                 | 1/5 [00:00<00:01,  2.79it/s]"
     ]
    },
    {
     "name": "stdout",
     "output_type": "stream",
     "text": [
      "epoch_loss :-1.2439492344856262\n"
     ]
    },
    {
     "name": "stderr",
     "output_type": "stream",
     "text": [
      " 40%|████████████████████████████████████████████████▊                                                                         | 2/5 [00:00<00:01,  2.84it/s]"
     ]
    },
    {
     "name": "stdout",
     "output_type": "stream",
     "text": [
      "epoch_loss :-1.236030176281929\n"
     ]
    },
    {
     "name": "stderr",
     "output_type": "stream",
     "text": [
      " 60%|█████████████████████████████████████████████████████████████████████████▏                                                | 3/5 [00:01<00:00,  2.85it/s]"
     ]
    },
    {
     "name": "stdout",
     "output_type": "stream",
     "text": [
      "epoch_loss :-1.2417452335357666\n"
     ]
    },
    {
     "name": "stderr",
     "output_type": "stream",
     "text": [
      " 80%|█████████████████████████████████████████████████████████████████████████████████████████████████▌                        | 4/5 [00:01<00:00,  2.84it/s]"
     ]
    },
    {
     "name": "stdout",
     "output_type": "stream",
     "text": [
      "epoch_loss :-1.24008347094059\n"
     ]
    },
    {
     "name": "stderr",
     "output_type": "stream",
     "text": [
      "100%|██████████████████████████████████████████████████████████████████████████████████████████████████████████████████████████| 5/5 [00:01<00:00,  2.96it/s]\n"
     ]
    },
    {
     "name": "stdout",
     "output_type": "stream",
     "text": [
      "epoch_loss :-1.2369369715452194\n"
     ]
    },
    {
     "name": "stderr",
     "output_type": "stream",
     "text": [
      "100%|█████████████████████████████████████████████████████████████████████████████████████████████████████████████████████| 200/200 [00:00<00:00, 377.84it/s]\n"
     ]
    },
    {
     "name": "stdout",
     "output_type": "stream",
     "text": [
      "wasserstein\n",
      "\tlosses_batch = -1.2361526489257812\n",
      "\twass = 0.04660913775895055\n",
      "\tprecision = 0.9263758487948006\n",
      "\trecall = 0.9783201240815675\n",
      "\tdensity = 0.0\n",
      "\tcoverage = 0.0\n",
      "\tfid = 0.0\n",
      "\tf_1_pr = 0.9516396823903227\n",
      "\tf_1_dc = 0.0\n",
      "\tfig = Figure(640x480)\n"
     ]
    },
    {
     "name": "stderr",
     "output_type": "stream",
     "text": [
      " 20%|████████████████████████▍                                                                                                 | 1/5 [00:00<00:01,  2.91it/s]"
     ]
    },
    {
     "name": "stdout",
     "output_type": "stream",
     "text": [
      "epoch_loss :-1.244726151227951\n"
     ]
    },
    {
     "name": "stderr",
     "output_type": "stream",
     "text": [
      " 40%|████████████████████████████████████████████████▊                                                                         | 2/5 [00:00<00:01,  2.89it/s]"
     ]
    },
    {
     "name": "stdout",
     "output_type": "stream",
     "text": [
      "epoch_loss :-1.238899827003479\n"
     ]
    },
    {
     "name": "stderr",
     "output_type": "stream",
     "text": [
      " 60%|█████████████████████████████████████████████████████████████████████████▏                                                | 3/5 [00:01<00:00,  2.90it/s]"
     ]
    },
    {
     "name": "stdout",
     "output_type": "stream",
     "text": [
      "epoch_loss :-1.2430450171232224\n"
     ]
    },
    {
     "name": "stderr",
     "output_type": "stream",
     "text": [
      " 80%|█████████████████████████████████████████████████████████████████████████████████████████████████▌                        | 4/5 [00:01<00:00,  2.89it/s]"
     ]
    },
    {
     "name": "stdout",
     "output_type": "stream",
     "text": [
      "epoch_loss :-1.2435161918401718\n"
     ]
    },
    {
     "name": "stderr",
     "output_type": "stream",
     "text": [
      "100%|██████████████████████████████████████████████████████████████████████████████████████████████████████████████████████████| 5/5 [00:01<00:00,  2.90it/s]\n"
     ]
    },
    {
     "name": "stdout",
     "output_type": "stream",
     "text": [
      "epoch_loss :-1.2402862161397934\n"
     ]
    },
    {
     "name": "stderr",
     "output_type": "stream",
     "text": [
      "100%|█████████████████████████████████████████████████████████████████████████████████████████████████████████████████████| 200/200 [00:00<00:00, 379.67it/s]\n"
     ]
    },
    {
     "name": "stdout",
     "output_type": "stream",
     "text": [
      "wasserstein\n",
      "\tlosses_batch = -1.2439160346984863\n",
      "\twass = 0.08204328893902899\n",
      "\tprecision = 0.9205896264767772\n",
      "\trecall = 0.9796998515958609\n",
      "\tdensity = 0.0\n",
      "\tcoverage = 0.0\n",
      "\tfid = 0.0\n",
      "\tf_1_pr = 0.9492254004950215\n",
      "\tf_1_dc = 0.0\n",
      "\tfig = Figure(640x480)\n"
     ]
    },
    {
     "name": "stderr",
     "output_type": "stream",
     "text": [
      " 20%|████████████████████████▍                                                                                                 | 1/5 [00:00<00:01,  2.84it/s]"
     ]
    },
    {
     "name": "stdout",
     "output_type": "stream",
     "text": [
      "epoch_loss :-1.241080179810524\n"
     ]
    },
    {
     "name": "stderr",
     "output_type": "stream",
     "text": [
      " 40%|████████████████████████████████████████████████▊                                                                         | 2/5 [00:00<00:01,  2.88it/s]"
     ]
    },
    {
     "name": "stdout",
     "output_type": "stream",
     "text": [
      "epoch_loss :-1.239618495106697\n"
     ]
    },
    {
     "name": "stderr",
     "output_type": "stream",
     "text": [
      " 60%|█████████████████████████████████████████████████████████████████████████▏                                                | 3/5 [00:01<00:00,  2.90it/s]"
     ]
    },
    {
     "name": "stdout",
     "output_type": "stream",
     "text": [
      "epoch_loss :-1.2411766052246094\n"
     ]
    },
    {
     "name": "stderr",
     "output_type": "stream",
     "text": [
      " 80%|█████████████████████████████████████████████████████████████████████████████████████████████████▌                        | 4/5 [00:01<00:00,  2.90it/s]"
     ]
    },
    {
     "name": "stdout",
     "output_type": "stream",
     "text": [
      "epoch_loss :-1.2413404434919357\n"
     ]
    },
    {
     "name": "stderr",
     "output_type": "stream",
     "text": [
      "100%|██████████████████████████████████████████████████████████████████████████████████████████████████████████████████████████| 5/5 [00:01<00:00,  2.89it/s]\n"
     ]
    },
    {
     "name": "stdout",
     "output_type": "stream",
     "text": [
      "epoch_loss :-1.2436246871948242\n"
     ]
    },
    {
     "name": "stderr",
     "output_type": "stream",
     "text": [
      "100%|█████████████████████████████████████████████████████████████████████████████████████████████████████████████████████| 200/200 [00:00<00:00, 378.94it/s]\n"
     ]
    },
    {
     "name": "stdout",
     "output_type": "stream",
     "text": [
      "wasserstein\n",
      "\tlosses_batch = -1.2579057216644287\n",
      "\twass = 0.060368339954337887\n",
      "\tprecision = 0.9466502519014267\n",
      "\trecall = 0.9798429337652439\n",
      "\tdensity = 0.0\n",
      "\tcoverage = 0.0\n",
      "\tfid = 0.0\n",
      "\tf_1_pr = 0.9629606447340868\n",
      "\tf_1_dc = 0.0\n",
      "\tfig = Figure(640x480)\n"
     ]
    }
   ],
   "source": [
    "for i in range(0, 100, 5):\n",
    "    manager.train(nepochs = 5, print_progression=False)\n",
    "    manager.evaluate()\n",
    "manager.save('models/model.pt')\n",
    "manager.save_eval_metrics('models/eval_model.pt')"
   ]
  },
  {
   "cell_type": "code",
   "execution_count": 6,
   "id": "81284b1f",
   "metadata": {},
   "outputs": [
    {
     "data": {
      "image/png": "[encoded data removed]",
      "text/plain": [
       "<Figure size 640x480 with 1 Axes>"
      ]
     },
     "metadata": {},
     "output_type": "display_data"
    }
   ],
   "source": [
    "manager.display_evals('losses_batch', log_scale=False)"
   ]
  },
  {
   "cell_type": "code",
   "execution_count": 7,
   "id": "14dd3769",
   "metadata": {},
   "outputs": [
    {
     "data": {
      "image/png": "[encoded data removed]",
      "text/plain": [
       "<Figure size 640x480 with 1 Axes>"
      ]
     },
     "metadata": {},
     "output_type": "display_data"
    }
   ],
   "source": [
    "manager.display_evals('losses', log_scale=False)"
   ]
  },
  {
   "cell_type": "code",
   "execution_count": 8,
   "id": "362611ce",
   "metadata": {},
   "outputs": [
    {
     "data": {
      "image/png": "[encoded data removed]",
      "text/plain": [
       "<Figure size 640x480 with 1 Axes>"
      ]
     },
     "metadata": {},
     "output_type": "display_data"
    }
   ],
   "source": [
    "manager.display_evals('wass', log_scale=True)"
   ]
  },
  {
   "cell_type": "code",
   "execution_count": 9,
   "id": "ac34d7ca",
   "metadata": {},
   "outputs": [
    {
     "data": {
      "image/png": "[encoded data removed]",
      "text/plain": [
       "<Figure size 640x480 with 1 Axes>"
      ]
     },
     "metadata": {},
     "output_type": "display_data"
    }
   ],
   "source": [
    "manager.display_evals('recall', log_scale=False)"
   ]
  },
  {
   "cell_type": "code",
   "execution_count": 10,
   "id": "e1dc7a5c",
   "metadata": {},
   "outputs": [
    {
     "data": {
      "image/png": "[encoded data removed]",
      "text/plain": [
       "<Figure size 640x480 with 1 Axes>"
      ]
     },
     "metadata": {},
     "output_type": "display_data"
    }
   ],
   "source": [
    "manager.display_evals('precision', log_scale=False)"
   ]
  },
  {
   "cell_type": "markdown",
   "id": "a5663701",
   "metadata": {},
   "source": [
    "As usual, $F_1$ score is:\n",
    "$$ F_1 = 2\\dfrac{\\textrm{precision} \\cdot \\textrm{recall}}{\\textrm{precision} + \\textrm{recall}}$$ "
   ]
  },
  {
   "cell_type": "code",
   "execution_count": 11,
   "id": "3961eb74",
   "metadata": {},
   "outputs": [
    {
     "data": {
      "image/png": "[encoded data removed]",
      "text/plain": [
       "<Figure size 640x480 with 1 Axes>"
      ]
     },
     "metadata": {},
     "output_type": "display_data"
    }
   ],
   "source": [
    "manager.display_evals('f_1_pr', log_scale=False)"
   ]
  },
  {
   "cell_type": "code",
   "execution_count": 13,
   "id": "0c397ae0",
   "metadata": {},
   "outputs": [
    {
     "data": {
      "image/png": "[encoded data removed]",
      "text/plain": [
       "<Figure size 640x480 with 1 Axes>"
      ]
     },
     "metadata": {},
     "output_type": "display_data"
    },
    {
     "data": {
      "image/png": "[encoded data removed]",
      "text/plain": [
       "<Figure size 640x480 with 1 Axes>"
      ]
     },
     "metadata": {},
     "output_type": "display_data"
    }
   ],
   "source": [
    "for i in [3, -1]:\n",
    "    display(manager.eval.evals['fig'][i])"
   ]
  },
  {
   "cell_type": "markdown",
   "id": "b211eff2-f2e5-4514-b676-3bffdb688648",
   "metadata": {
    "jp-MarkdownHeadingCollapsed": true,
    "tags": []
   },
   "source": [
    "# Reverse Sampling"
   ]
  },
  {
   "cell_type": "markdown",
   "id": "0d0fcd48",
   "metadata": {},
   "source": [
    "## Inspect generated data trajectory - from noise to data distribution"
   ]
  },
  {
   "cell_type": "code",
   "execution_count": 4,
   "id": "243a15ac",
   "metadata": {},
   "outputs": [],
   "source": [
    "gen_model = Gen.GenerationManager(model, pdmp, data)\n",
    "gen_model.generate(1000)"
   ]
  },
  {
   "cell_type": "code",
   "execution_count": 5,
   "id": "2058100d-2a6c-49c8-b671-6c35bb13c1b2",
   "metadata": {
    "tags": []
   },
   "outputs": [
    {
     "data": {
      "image/png": "[encoded data removed]",
      "text/plain": [
       "<Figure size 640x480 with 1 Axes>"
      ]
     },
     "metadata": {},
     "output_type": "display_data"
    }
   ],
   "source": [
    "# Look at the position of the particle through time\n",
    "pos = gen_model.history.squeeze(-2)[:, 0, :2] # squeeze: remove channel dimension\n",
    "plt.plot(pos[:, 0], pos[:, 1], linestyle='-')\n",
    "plt.grid(True)\n",
    "plt.show()"
   ]
  },
  {
   "cell_type": "markdown",
   "id": "16cea339",
   "metadata": {},
   "source": [
    "We can now use our GenerationManager object to examine the generated data."
   ]
  },
  {
   "cell_type": "markdown",
   "id": "8e265cee",
   "metadata": {},
   "source": [
    "* get animation"
   ]
  },
  {
   "cell_type": "code",
   "execution_count": 6,
   "id": "8f0d323a-1656-4250-bb15-00388237788f",
   "metadata": {
    "tags": []
   },
   "outputs": [
    {
     "data": {
      "text/plain": [
       "'./animation/check.mp4'"
      ]
     },
     "execution_count": 6,
     "metadata": {},
     "output_type": "execute_result"
    },
    {
     "data": {
      "image/png": "[encoded data removed]",
      "text/plain": [
       "<Figure size 640x480 with 1 Axes>"
      ]
     },
     "metadata": {},
     "output_type": "display_data"
    }
   ],
   "source": [
    "# Use Generation manager object to generate animation from the history of the data\n",
    "gen_model.animation(generated_data_name = 'check')"
   ]
  },
  {
   "cell_type": "markdown",
   "id": "8fff9b5e-0901-4f4e-bbba-f210276d9b03",
   "metadata": {},
   "source": [
    "* Get plot of the generated data."
   ]
  },
  {
   "cell_type": "code",
   "execution_count": 8,
   "id": "3ae0b621-0e81-4e68-a73f-23f734ce56b3",
   "metadata": {
    "tags": []
   },
   "outputs": [
    {
     "data": {
      "image/png": "[encoded data removed]",
      "text/plain": [
       "<Figure size 640x480 with 1 Axes>"
      ]
     },
     "execution_count": 8,
     "metadata": {},
     "output_type": "execute_result"
    }
   ],
   "source": [
    "lims = 3\n",
    "# gen_model.samples = chain[-1, :, :, :2].squeeze(-2) # get the last position of every sample, remove channel dimension\n",
    "gen_model.get_plot(limit_nb_orig_data = 100, # number of original data to plot\n",
    "                   xlim = (-lims, lims), ylim = (-lims, lims))"
   ]
  }
 ],
 "metadata": {
  "kernelspec": {
   "display_name": "Python 3 (ipykernel)",
   "language": "python",
   "name": "python3"
  },
  "language_info": {
   "codemirror_mode": {
    "name": "ipython",
    "version": 3
   },
   "file_extension": ".py",
   "mimetype": "text/x-python",
   "name": "python",
   "nbconvert_exporter": "python",
   "pygments_lexer": "ipython3",
   "version": "3.11.5"
  },
  "latex_envs": {
   "LaTeX_envs_menu_present": true,
   "autoclose": false,
   "autocomplete": false,
   "bibliofile": "biblio.bib",
   "cite_by": "apalike",
   "current_citInitial": 1,
   "eqLabelWithNumbers": true,
   "eqNumInitial": 1,
   "hotkeys": {
    "equation": "Ctrl-E",
    "itemize": "Ctrl-I"
   },
   "labels_anchors": false,
   "latex_user_defs": false,
   "report_style_numbering": false,
   "user_envs_cfg": false
  }
 },
 "nbformat": 4,
 "nbformat_minor": 5
}
