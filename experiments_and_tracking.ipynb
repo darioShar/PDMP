{
 "cells": [
  {
   "cell_type": "markdown",
   "id": "c74a0b5d-1355-48e2-b3e0-543f1dcd9088",
   "metadata": {},
   "source": [
    "The process can be defined from ($\\varphi, \\lambda, Q$) where\n",
    "* $\\varphi$ is the ODE dynamics - or the integral path defined by a vector field $\\Phi$\n",
    "* $\\lambda$ is the probability that a jumps occurs during the particle's movement\n",
    "* $Q$ is the Markov kernel used for the jump\n",
    "\n",
    "ZigZag sampler:\n",
    "\n",
    "* $\\Phi(x, v)$ = v\n",
    "* $\\lambda(x, v)_i = (v_i (\\partial \\psi(x))_i)_+$, with $\\pi \\propto \\exp(-\\psi(x))$ the target distribution. For Gaussian distribution: $$\\lambda(x, v)_i = (v_i x_i)_+ $$\n",
    "* Q reverses speed.\n",
    "\n",
    "For the reverse process, we essentially just need to compute, for all $i$:\n",
    "$$ \\bar \\lambda_i = \\lambda_i \\dfrac{p_t(x_t, R_i v_t)}{p_t(x_t, v_t)} $$\n",
    "Notations:\n",
    "$$ s_{\\theta}(x, R v, t) = \\begin{pmatrix} s_{\\theta}(x, R_1 v, t)_1 \\\\ \\cdots \\\\ s_{\\theta}(x, R_d v, t)_d \\end{pmatrix}$$\n",
    "where $R_i v = \\begin{pmatrix} v_1 \\\\ \\cdot \\\\ -v_i \\\\ \\cdot \\\\ v_n \\end{pmatrix}$\n",
    "* Fit the model by minimizing:\n",
    "     $$ \\mathbb{E}_{t, x, v} \\|  s_{\\theta}(x, v, t) - \\dfrac{p_t(x_t, R v_t)}{p_t(x_t, v_t)}\\|^2 =  \\mathbb{E}_{t, x, v} \\frac12 s_{\\theta}(x, v, t)^2 - s_{\\theta}(x, R v, t)$$\n",
    "\n",
    "\n",
    "\n",
    "Current Limitations\n",
    "* If the dimension is $d$, we need $d+1$ forward pass, because:\n",
    "$$ \\mathbb{E}_{t, x, v} \\frac12 s_{\\theta}(x, v, t)^2 - s_{\\theta}(x, R v, t) = \\mathbb{E}_{t, x, v} \\sum_{i=1}^d \\frac12 s_{\\theta}(x, v, t)_i^2 - s_{\\theta}(x, R_i v, t)_i$$\n",
    "* The loss is unstable."
   ]
  },
  {
   "cell_type": "markdown",
   "id": "5f86a9b6",
   "metadata": {},
   "source": [
    "**Symmetrised ratio matching** we introduce the function $g(r) = \\frac{1}{1+r}$ and define the objective function\n",
    "\\begin{equation}\n",
    "    J_{ERM}(\\theta) = \\sum_{i=1}^d \\mathbb{E}_{p_t}\\left[ \\left(g(s_\\theta(X_t,V_t,t)[i]) - g(r_i(X_t,V_t,t)) \\right)^2 + \\left(g(s_\\theta(X_t,R_iV_t,t)[i]) - g(r_i(X_t,R_iV_t,t)) \\right)^2 \\right]\n",
    "\\end{equation}\n",
    "which is equivalent, as an objective function, to:\n",
    "\\begin{equation}\n",
    "    J_{IRM}(\\theta) = \\sum_{i=1}^d \\mathbb{E}_{p_t}\\left[ \\frac{1}{(1 + s_\\theta(x,v,t)[i])^2} +\\frac{1}{(1 + s_\\theta(x,R_i v,t)[i])^2}  - \\frac{2}{1 + s_\\theta(x,v,t)[i]}\\right]\n",
    "\\end{equation}\n",
    "\n",
    "\n",
    "**KL minimisation** Focus on the score entropy:\n",
    "\\begin{equation}\n",
    "    J_{ERM}(\\theta) =  \\sum_{i=1}^d w_i\\mathbb{E}_{p_t}\\left[ s_\\theta(X_t,V_t,t)[i] -r_i(X_t,V_t,t)  - \\Big( \\log s_\\theta(X_t,R_iV_t,t)[i]) - \\log r_i(X_t,R_iV_t,t)\\Big) \\right].\n",
    "\\end{equation}\n",
    "where $\\{w_i\\}$ is a sequence of weights. Also this objective function considers the error in the estimation of both $r_i(x,v,t)$ and $r_i(x,R_iv,t)$, encouraging stable solutions. Clearly the implicit formulation has objective function \n",
    "\\begin{equation}\n",
    "    J_{IRM}(\\theta) =  \\sum_{i=1}^d w_i\\mathbb{E}_{p_t}\\left[ s_\\theta(X_t,V_t,t)[i] -  \\log s_\\theta(X_t,R_iV_t,t)[i]) \\right].\n",
    "\\end{equation}\n",
    "\n",
    "Question: shouldn't it be\n",
    "\\begin{equation}\n",
    "    J_{IRM}(\\theta) =  \\sum_{i=1}^d w_i\\mathbb{E}_{p_t}\\left[ s_\\theta(X_t,V_t,t)[i] +  \\log s_\\theta(X_t,R_iV_t,t)[i]) \\right] \\quad ?\n",
    "\\end{equation}"
   ]
  },
  {
   "cell_type": "markdown",
   "id": "6ca054cb",
   "metadata": {},
   "source": [
    "TODO:\n",
    "* Architecture. Change the network architecture. Receives $R$ as an argument, and is made invariant on speed?\n",
    "    $$ s_{\\theta}(x, v, R) : \\quad  s_{\\theta}(x, Rv, R) = s_{\\theta}(x, v, R)$$ \n",
    "    Take the component $i$ as an input. Idea of copula? Take a single dimension as input too? outputs a single value.\n",
    "* Dimension problem.\n",
    "* Stable training.\n",
    "* Mixing time of pdmp (time horizon?)\n",
    "* Experiments: \n",
    "    * Other datasets. $\\mathcal{N}(\\mu, \\sigma^2 I_2)$ instead of mixture. Increase dimensions.\n",
    "    * Effect of the number of reverse steps. Effect of the reverse sampler\n",
    "    "
   ]
  },
  {
   "cell_type": "markdown",
   "id": "0cae04b9-aa5a-4d36-838d-838a0835bb1e",
   "metadata": {
    "tags": []
   },
   "source": [
    "# PDMP"
   ]
  },
  {
   "cell_type": "markdown",
   "id": "c460a9a9-5912-49c1-a79d-65c1fdbe7758",
   "metadata": {
    "jp-MarkdownHeadingCollapsed": true,
    "tags": []
   },
   "source": [
    "## Setup"
   ]
  },
  {
   "cell_type": "markdown",
   "id": "2b85fe49",
   "metadata": {},
   "source": [
    "* Model takes $(X_t, V_t)$ as input (4 in 2d). Outputs $\\lambda_i$ for each i (2 in 2d)\n",
    "* Some of the code is relying on dictionnaries to define constituting parameters"
   ]
  },
  {
   "cell_type": "code",
   "execution_count": 1,
   "id": "e628bedf-da49-45a6-85be-022929755024",
   "metadata": {
    "tags": []
   },
   "outputs": [],
   "source": [
    "import numpy as np\n",
    "import torch\n",
    "from IPython.display import HTML\n",
    "from IPython.display import display\n",
    "import os\n",
    "import yaml\n",
    "import matplotlib.pyplot as plt\n",
    "from matplotlib.widgets import Slider, Button, RadioButtons\n",
    "\n",
    "%matplotlib inline\n",
    "\n",
    "p_model_2d = {\n",
    "    'act' : 'silu',\n",
    "    'skip_connection' : True,\n",
    "    'group_norm' : True,\n",
    "    'dropout_rate' : .0,\n",
    "    'nblocks' : 2,\n",
    "    'nunits' : 64,\n",
    "    'use_a_t' : False,\n",
    "    'no_a': True,\n",
    "    'a_pos_emb': False, # cannot have no_a and a_pos_emb\n",
    "    'a_emb_size': 32,\n",
    "    'time_emb_type' : 'learnable',#'learnable',# 'one_dimensional_input',\n",
    "    'time_emb_size' : 8, \n",
    "    'compute_gamma': False,\n",
    "}\n",
    "\n",
    "p_data_2d = {\n",
    "    'nfeatures' : 2, # if data_type is 2d, will just project on first dimension\n",
    "    'nsamples' : 4*8*1024,\n",
    "    #'bs': ..., may need to add\n",
    "    'dataset' : 'gmm_2',\n",
    "    'std' : 0.1, # 0.5, 0.05,\n",
    "    'n_mixture' : 2, # must be square. set to None if not a grid mixture\n",
    "    'normalize' : True,\n",
    "    #'weights': np.array([1/2]*2),\n",
    "    'weights': None,#[.01, .1, .3, \n",
    "               # .2, .02, .15,\n",
    "               # .02, .15, .05],# None, #np.array([.05, .95]),\n",
    "    'theta': 1.,\n",
    "    'alpha': 2.,\n",
    "    #'isotropic': True\n",
    "}\n",
    "\n",
    "device = 'mps'"
   ]
  },
  {
   "cell_type": "markdown",
   "id": "65b2a3b2",
   "metadata": {},
   "source": [
    "* Prepare all our objects"
   ]
  },
  {
   "cell_type": "code",
   "execution_count": 2,
   "id": "a9c5ecc1-d98a-47b6-84c5-438484172c0d",
   "metadata": {
    "tags": []
   },
   "outputs": [
    {
     "name": "stdout",
     "output_type": "stream",
     "text": [
      "0\n"
     ]
    }
   ],
   "source": [
    "import torch\n",
    "from torch.utils.data import TensorDataset\n",
    "from torch.utils.data import DataLoader\n",
    "import initial_code.pdmp as pdmp\n",
    "import Data as Data\n",
    "import Generate as Gen\n",
    "from Model import LevyDiffusionModel\n",
    "import torch.optim as optim\n",
    "import torch.nn as nn\n",
    "import Generate as Gen\n",
    "import matplotlib.pyplot as plt\n",
    "\n",
    "# original data, get dataloader\n",
    "gmm_2 = Data.Generator(**p_data_2d)#('gmm_2', n_samples = 32000, theta=1, std = 0.1)\n",
    "GMM2 = gmm_2.generate()\n",
    "GMM2 = GMM2.unsqueeze(1) # add channel\n",
    "dataset = TensorDataset(GMM2)#, torch.tensor([0.]).repeat(GMM2.shape[0]))\n",
    "data = DataLoader(dataset, \n",
    "                batch_size=p_data_2d['nsamples'] // 8, \n",
    "                shuffle=True, \n",
    "                num_workers=1)\n",
    "\n",
    "# model\n",
    "model = LevyDiffusionModel({'data': {'nfeatures': p_data_2d['nfeatures']}, 'model':p_model_2d, 'device': 'cpu'}).to(device)\n",
    "\n",
    "# optimizer\n",
    "optimizer = optim.AdamW(model.parameters(), \n",
    "                        lr=1e-3, \n",
    "                        betas=(0.9, 0.99)) # beta_2 0.95 instead of 0.999\n",
    "\n",
    "# PDMP class\n",
    "pdmp = pdmp.PDMP(total_time = 8)\n",
    "\n",
    "# Manager for data generation\n",
    "gen_model = Gen.GenerationManager(model, pdmp, data)"
   ]
  },
  {
   "cell_type": "markdown",
   "id": "025d9096-9466-4f2e-9d77-19e283bb696c",
   "metadata": {
    "jp-MarkdownHeadingCollapsed": true,
    "tags": []
   },
   "source": [
    "## Look at the noised data"
   ]
  },
  {
   "cell_type": "code",
   "execution_count": 204,
   "id": "d5639bc1-1a7e-4ec3-93df-208e6e74fa34",
   "metadata": {
    "tags": []
   },
   "outputs": [
    {
     "name": "stdout",
     "output_type": "stream",
     "text": [
      "torch.Size([32768, 1, 2])\n"
     ]
    }
   ],
   "source": [
    "# clone data, since it will be modified by forward process\n",
    "data_clone = GMM2.clone()\n",
    "# orint its shape\n",
    "print(data_clone.shape)\n",
    "# get a unit time horizon\n",
    "time_horizons = torch.ones(data_clone.shape) \n",
    "for i in range(int(pdmp.T)):\n",
    "    t = time_horizons.clone()\n",
    "    pdmp.forward(data_clone, t)\n",
    "#* pdmp.T\n",
    "# forward process for pmdp.T time units\n",
    "#pdmp.forward(data_clone, time_horizons)"
   ]
  },
  {
   "cell_type": "code",
   "execution_count": 207,
   "id": "40a432d4-5754-4e1d-a629-de947e0f673c",
   "metadata": {
    "tags": []
   },
   "outputs": [
    {
     "data": {
      "image/png": "[encoded data removed]",
      "text/plain": [
       "<Figure size 640x480 with 1 Axes>"
      ]
     },
     "metadata": {},
     "output_type": "display_data"
    }
   ],
   "source": [
    "# look at histogram of one component at the last timestep\n",
    "\n",
    "pos = data_clone.squeeze(1) # remove channel dimension\n",
    "import scipy.stats as stats\n",
    "X = np.linspace(-3, 3, 100)\n",
    "Y = stats.norm.pdf(X, 0, 1)\n",
    "plt.plot(X, Y, color='red')\n",
    "plt.hist(pos[:, 0], bins='auto', density=True)\n",
    "plt.show()"
   ]
  },
  {
   "cell_type": "markdown",
   "id": "34ff327c-f615-4cb8-8ca6-211303876bb5",
   "metadata": {
    "jp-MarkdownHeadingCollapsed": true,
    "tags": []
   },
   "source": [
    "## Train the model"
   ]
  },
  {
   "cell_type": "code",
   "execution_count": 6,
   "id": "51b1b1e2-f91d-4799-addd-e60554af38b3",
   "metadata": {
    "tags": []
   },
   "outputs": [],
   "source": [
    "# can use this to load a model and optimizer\n",
    "\n",
    "MODEL_PATH = 'models/first_model.pt'\n",
    "\n",
    "chpt = torch.load(MODEL_PATH)\n",
    "model.load_state_dict(chpt['model'])\n",
    "optimizer.load_state_dict(chpt['optimizer'])"
   ]
  },
  {
   "cell_type": "code",
   "execution_count": 17,
   "id": "e369752b-6492-44ce-9ca5-8a8532f19608",
   "metadata": {
    "scrolled": true,
    "tags": []
   },
   "outputs": [
    {
     "name": "stderr",
     "output_type": "stream",
     "text": [
      "  5%|██████▎                                                                                                                       | 1/20 [00:01<00:33,  1.78s/it]"
     ]
    },
    {
     "name": "stdout",
     "output_type": "stream",
     "text": [
      "epoch_loss :-1.2022376358509064\n"
     ]
    },
    {
     "name": "stderr",
     "output_type": "stream",
     "text": [
      " 10%|████████████▌                                                                                                                 | 2/20 [00:03<00:32,  1.78s/it]"
     ]
    },
    {
     "name": "stdout",
     "output_type": "stream",
     "text": [
      "epoch_loss :-1.2042168080806732\n"
     ]
    },
    {
     "name": "stderr",
     "output_type": "stream",
     "text": [
      " 15%|██████████████████▉                                                                                                           | 3/20 [00:05<00:30,  1.77s/it]"
     ]
    },
    {
     "name": "stdout",
     "output_type": "stream",
     "text": [
      "epoch_loss :-1.2053498476743698\n"
     ]
    },
    {
     "name": "stderr",
     "output_type": "stream",
     "text": [
      " 20%|█████████████████████████▏                                                                                                    | 4/20 [00:07<00:27,  1.74s/it]"
     ]
    },
    {
     "name": "stdout",
     "output_type": "stream",
     "text": [
      "epoch_loss :-1.209599494934082\n"
     ]
    },
    {
     "name": "stderr",
     "output_type": "stream",
     "text": [
      " 25%|███████████████████████████████▌                                                                                              | 5/20 [00:08<00:26,  1.76s/it]"
     ]
    },
    {
     "name": "stdout",
     "output_type": "stream",
     "text": [
      "epoch_loss :-1.2101198732852936\n"
     ]
    },
    {
     "name": "stderr",
     "output_type": "stream",
     "text": [
      " 30%|█████████████████████████████████████▊                                                                                        | 6/20 [00:10<00:24,  1.76s/it]"
     ]
    },
    {
     "name": "stdout",
     "output_type": "stream",
     "text": [
      "epoch_loss :-1.208668738603592\n"
     ]
    },
    {
     "name": "stderr",
     "output_type": "stream",
     "text": [
      " 35%|████████████████████████████████████████████                                                                                  | 7/20 [00:12<00:23,  1.84s/it]"
     ]
    },
    {
     "name": "stdout",
     "output_type": "stream",
     "text": [
      "epoch_loss :-1.2132030874490738\n"
     ]
    },
    {
     "name": "stderr",
     "output_type": "stream",
     "text": [
      " 40%|██████████████████████████████████████████████████▍                                                                           | 8/20 [00:14<00:22,  1.86s/it]"
     ]
    },
    {
     "name": "stdout",
     "output_type": "stream",
     "text": [
      "epoch_loss :-1.2140081971883774\n"
     ]
    },
    {
     "name": "stderr",
     "output_type": "stream",
     "text": [
      " 45%|████████████████████████████████████████████████████████▋                                                                     | 9/20 [00:16<00:20,  1.89s/it]"
     ]
    },
    {
     "name": "stdout",
     "output_type": "stream",
     "text": [
      "epoch_loss :-1.2099100649356842\n"
     ]
    },
    {
     "name": "stderr",
     "output_type": "stream",
     "text": [
      " 50%|██████████████████████████████████████████████████████████████▌                                                              | 10/20 [00:18<00:19,  1.96s/it]"
     ]
    },
    {
     "name": "stdout",
     "output_type": "stream",
     "text": [
      "epoch_loss :-1.2142455726861954\n"
     ]
    },
    {
     "name": "stderr",
     "output_type": "stream",
     "text": [
      " 55%|████████████████████████████████████████████████████████████████████▊                                                        | 11/20 [00:20<00:17,  1.98s/it]"
     ]
    },
    {
     "name": "stdout",
     "output_type": "stream",
     "text": [
      "epoch_loss :-1.2188041359186172\n"
     ]
    },
    {
     "name": "stderr",
     "output_type": "stream",
     "text": [
      " 60%|███████████████████████████████████████████████████████████████████████████                                                  | 12/20 [00:22<00:15,  1.98s/it]"
     ]
    },
    {
     "name": "stdout",
     "output_type": "stream",
     "text": [
      "epoch_loss :-1.2133647203445435\n"
     ]
    },
    {
     "name": "stderr",
     "output_type": "stream",
     "text": [
      " 65%|█████████████████████████████████████████████████████████████████████████████████▎                                           | 13/20 [00:24<00:14,  2.01s/it]"
     ]
    },
    {
     "name": "stdout",
     "output_type": "stream",
     "text": [
      "epoch_loss :-1.2159157991409302\n"
     ]
    },
    {
     "name": "stderr",
     "output_type": "stream",
     "text": [
      " 70%|███████████████████████████████████████████████████████████████████████████████████████▌                                     | 14/20 [00:26<00:11,  1.98s/it]"
     ]
    },
    {
     "name": "stdout",
     "output_type": "stream",
     "text": [
      "epoch_loss :-1.2184994369745255\n"
     ]
    },
    {
     "name": "stderr",
     "output_type": "stream",
     "text": [
      " 75%|█████████████████████████████████████████████████████████████████████████████████████████████▊                               | 15/20 [00:28<00:09,  2.00s/it]"
     ]
    },
    {
     "name": "stdout",
     "output_type": "stream",
     "text": [
      "epoch_loss :-1.2159811705350876\n"
     ]
    },
    {
     "name": "stderr",
     "output_type": "stream",
     "text": [
      " 80%|████████████████████████████████████████████████████████████████████████████████████████████████████                         | 16/20 [00:30<00:07,  1.98s/it]"
     ]
    },
    {
     "name": "stdout",
     "output_type": "stream",
     "text": [
      "epoch_loss :-1.2184363156557083\n"
     ]
    },
    {
     "name": "stderr",
     "output_type": "stream",
     "text": [
      " 85%|██████████████████████████████████████████████████████████████████████████████████████████████████████████▎                  | 17/20 [00:32<00:05,  1.98s/it]"
     ]
    },
    {
     "name": "stdout",
     "output_type": "stream",
     "text": [
      "epoch_loss :-1.22108094394207\n"
     ]
    },
    {
     "name": "stderr",
     "output_type": "stream",
     "text": [
      " 90%|████████████████████████████████████████████████████████████████████████████████████████████████████████████████▌            | 18/20 [00:34<00:03,  1.99s/it]"
     ]
    },
    {
     "name": "stdout",
     "output_type": "stream",
     "text": [
      "epoch_loss :-1.2178387939929962\n"
     ]
    },
    {
     "name": "stderr",
     "output_type": "stream",
     "text": [
      " 95%|██████████████████████████████████████████████████████████████████████████████████████████████████████████████████████▊      | 19/20 [00:36<00:02,  2.00s/it]"
     ]
    },
    {
     "name": "stdout",
     "output_type": "stream",
     "text": [
      "epoch_loss :-1.2221268564462662\n"
     ]
    },
    {
     "name": "stderr",
     "output_type": "stream",
     "text": [
      "100%|█████████████████████████████████████████████████████████████████████████████████████████████████████████████████████████████| 20/20 [00:38<00:00,  1.93s/it]"
     ]
    },
    {
     "name": "stdout",
     "output_type": "stream",
     "text": [
      "epoch_loss :-1.2247208505868912\n"
     ]
    },
    {
     "name": "stderr",
     "output_type": "stream",
     "text": [
      "\n"
     ]
    }
   ],
   "source": [
    "# actually training the model\n",
    "\n",
    "from tqdm import tqdm\n",
    "import torch.nn as nn\n",
    "\n",
    "# potential gradient clipping\n",
    "grad_clip = None\n",
    "\n",
    "# training\n",
    "model.train()\n",
    "for i in tqdm(range(20)):\n",
    "    epoch_loss = steps = 0\n",
    "    for i, (Xbatch,) in enumerate(data):\n",
    "        # training loss\n",
    "\n",
    "        # generate random speed\n",
    "        Vbatch = torch.tensor([-1., 1.])[torch.randint(0, 2, (2*Xbatch.shape[0],))]\n",
    "        Vbatch = Vbatch.reshape(Xbatch.shape[0], 1, 2)\n",
    "\n",
    "        # generate random time horizons\n",
    "        time_horizons = pdmp.T * (torch.rand(Xbatch.shape[0])**2)\n",
    "\n",
    "        # must be of the same shape as Xbatch for the pdmp forward process, since it will be applied component wise\n",
    "        t = time_horizons.clone().detach().unsqueeze(-1).unsqueeze(-1).repeat(1, 1, 2)\n",
    "        \n",
    "        # clone our initial data, since it will be modified by forward process\n",
    "        x = Xbatch.clone()\n",
    "        v = Vbatch.clone()\n",
    "        \n",
    "        # apply the forward process\n",
    "        pdmp.forward(Xbatch, t, Vbatch)\n",
    "        \n",
    "        # check that the data has been modified\n",
    "        assert ((x != Xbatch).any()) and ((v != Vbatch).any())\n",
    "        # check that the time horizon has been reached for all data\n",
    "        assert not (t != 0.).any()\n",
    "        \n",
    "        # send to device\n",
    "        Xbatch = Xbatch.to(device)\n",
    "        Vbatch = Vbatch.to(device)\n",
    "        time_horizons = time_horizons.to(device)\n",
    "        \n",
    "        # tensor to give as input to the model. It is the concatenation of the position and the speed.\n",
    "        X_V_t = torch.concat((Xbatch, Vbatch), dim = -1)\n",
    "        #print(time_horizons[0], X_V_t[0])\n",
    "        #print(X_V_t.mean(dim = 0), X_V_t.std(dim = 0))\n",
    "\n",
    "        # run the model\n",
    "        output = model(X_V_t, time_horizons)\n",
    "\n",
    "        # invert time on component 1 and 2\n",
    "        X_V_inv_t_1 = X_V_t.detach().clone() # clone to avoid modifying the original tensor, detach to avoid computing gradients on original tensor\n",
    "        X_V_inv_t_2 = X_V_t.detach().clone()\n",
    "        X_V_inv_t_1[:, :, 2] *= -1 # reverse speed on i = 1\n",
    "        X_V_inv_t_2[:, :, 3] *= -1 # reverse speed on i = 2\n",
    "\n",
    "        # run the model on each inverted speed component\n",
    "        output_inv_1 = model(X_V_inv_t_1, time_horizons)\n",
    "        output_inv_2 = model(X_V_inv_t_2, time_horizons)\n",
    "        \n",
    "        # compute the loss\n",
    "        def g(x):\n",
    "            return (1 / (1+x))\n",
    "        loss = g(output[:, :, 0])**2 + g(output_inv_1[:, :, 0])**2\n",
    "        loss += g(output[:, :, 1])**2 + g(output_inv_2[:, :, 1])**2\n",
    "        loss -= 2*(g(output[:, :, 0]) + g(output[:, :, 1]))\n",
    "        loss = loss.mean()\n",
    "        #speed_idx_0 = X_V_t[:, :, 2] + 1 //2 # 0 if speed_0 is -1, 1 if speed_0 is 1\n",
    "        #speed_idx_1 = X_V_t[:, :, 3] + 1 //2 # 0 if speed_1 is -1, 1 if speed_1 is 1\n",
    "        #loss = 0.5*output[:, :, 0]**2 - (1 / output[:,:,0])\n",
    "        #loss += 0.5*output[:, :, 1]**2 - (1 / output[:,:,1])\n",
    "        #loss = loss.mean()\n",
    "        #normalize_mean = output.mean()\n",
    "        #loss += (torch.log(normalize_mean))**2\n",
    "        #loss  = (1 / (1 + output.mean()) - 1 / 2)**2\n",
    "        #loss += - torch.log(output_inv_1).mean() - torch.log(output_inv_2).mean()\n",
    "        #if i % 10 != 0:\n",
    "        #    loss = 0.5*output[:, :, 0]**2 - (output_inv_1[:,:,0])\n",
    "        #    loss += 0.5*output[:, :, 1]**2 - (output_inv_2[:,:,1])\n",
    "        #    loss = loss.mean()\n",
    "        #loss = 0.5*output[:, :, 0]**2 - (output[:,:,2 + 0])\n",
    "        #loss += 0.5*output[:, :, 1]**2 - (output[:,:,2 + 1])\n",
    "        #else:\n",
    "        #    loss = .5*((1 / output[:,:,0]).mean() - 1)**2\n",
    "        #    loss += .5*((1 / output[:,:,1]).mean() - 1)**2\n",
    "        #    loss += .5*((output_inv_1[:,:,0]).mean() - 1)**2\n",
    "        #    loss += .5*((output_inv_2[:,:,1]).mean() - 1)**2\n",
    "        #    loss += .5*((output[:, :, 0] * output_inv_1[:,:,0] - 1).mean())**2\n",
    "        #    loss += .5*((output[:, :, 1] * output_inv_2[:,:,1] - 1).mean())**2\n",
    "        #    loss = loss.mean()\n",
    "        #loss += (output.mean() - 1)**2\n",
    "        #loss += (output_inv_1.mean() - 1)**2\n",
    "        #loss += (output_inv_2.mean() - 1)**2\n",
    "        #loss += (output[:, :, 0] * output_inv_1[:,:,0] - 1).mean()\n",
    "        #loss += (output[:, :, 1] * output_inv_2[:,:,1] - 1).mean()\n",
    "        # and finally gradient descent\n",
    "        optimizer.zero_grad()\n",
    "        loss.backward()\n",
    "        if grad_clip is not None:\n",
    "            nn.utils.clip_grad_norm_(model.parameters(), grad_clip)\n",
    "        optimizer.step()\n",
    "\n",
    "        # add to epoch loss\n",
    "        epoch_loss += loss.item()\n",
    "        steps+= 1\n",
    "    # compute epoch loss\n",
    "    epoch_loss = epoch_loss / steps\n",
    "    print('epoch_loss :{}'.format(epoch_loss))"
   ]
  },
  {
   "cell_type": "code",
   "execution_count": 18,
   "id": "fc534e11-b8f8-43fb-8fea-1e38db2dc841",
   "metadata": {
    "tags": []
   },
   "outputs": [],
   "source": [
    "# save the model\n",
    "MODEL_PATH = 'models/first_model.pt'\n",
    "\n",
    "checkpoint = {'model': model.state_dict(), 'optimizer': optimizer.state_dict()}\n",
    "torch.save(checkpoint, MODEL_PATH)"
   ]
  },
  {
   "cell_type": "markdown",
   "id": "b211eff2-f2e5-4514-b676-3bffdb688648",
   "metadata": {
    "jp-MarkdownHeadingCollapsed": true,
    "tags": []
   },
   "source": [
    "# Reverse Sampling"
   ]
  },
  {
   "cell_type": "markdown",
   "id": "b84c45f9",
   "metadata": {},
   "source": [
    "## Reverse process"
   ]
  },
  {
   "cell_type": "code",
   "execution_count": 19,
   "id": "18d6f8c1-49cd-41de-a6f0-a70a464e52cf",
   "metadata": {
    "scrolled": true,
    "tags": []
   },
   "outputs": [],
   "source": [
    "# generate data\n",
    "## For the backward process\n",
    "def flip_given_rate(v, lambdas, s):\n",
    "    lambdas[lambdas == 0.] += 1e-9\n",
    "    event_time = torch.distributions.exponential.Exponential(lambdas)\n",
    "    v[event_time.sample() <= s] *= -1.\n",
    "\n",
    "def splitting_zzs_DBD(model, T, N, nsamples = None, x_init=None, v_init=None):\n",
    "    timesteps = torch.linspace(1, 0, N+1)**2 * T\n",
    "    #timesteps = timesteps.flip(dims = (0,))\n",
    "    #times = T - deltas.cumsum(dim = 0)\n",
    "    assert (nsamples is not None) or (x_init is not None) or (v_init is not None) \n",
    "    if x_init is None:\n",
    "        x_init = torch.randn(nsamples, 1, 2)\n",
    "    if v_init is None:\n",
    "        v_init = torch.tensor([-1., 1.])[torch.randint(0, 2, (x_init.shape[0],))].reshape(x_init.shape[0], 1, 1).repeat(1, *(x_init.shape[1:]))\n",
    "    #chain = [pdmp.Skeleton(torch.clone(x_init), torch.clone(v_init), 0.)]\n",
    "    chain = []\n",
    "    x = x_init.clone()\n",
    "    v = v_init.clone()\n",
    "    model.eval()\n",
    "    #print(x)\n",
    "    with torch.inference_mode():\n",
    "        for i in range(int(N)):\n",
    "            time = timesteps[i]\n",
    "            delta = (timesteps[i] - timesteps[i+1]) if i < N - 1 else timesteps[i]\n",
    "            chain.append(torch.concat((x, v), dim = -1))\n",
    "            # compute x_n-1 from x_n\n",
    "            x = x - v * delta / 2 # x - v * δ / 2\n",
    "            time_mid = time - delta/ 2 #float(n * δ - δ / 2) #float(n - δ / 2)\n",
    "            density_ratio = model(torch.concat((x,v), dim = -1).to(device),\n",
    "                                  (torch.ones(x.shape[0])*time_mid).to(device))[:, :, :2]\n",
    "            print(density_ratio.mean(dim=0))\n",
    "            #print(density_ratio)\n",
    "            #print(grad_x)\n",
    "            switch_rate = density_ratio.cpu()* torch.maximum(torch.zeros(x.shape), -v * x)\n",
    "            #print(switch_rate)\n",
    "            #print(switch_rate[switch_rate <= 0.])\n",
    "            flip_given_rate(v, switch_rate, delta)\n",
    "            x = x - v * delta / 2 #x - v * δ / 2\n",
    "            #print(x, v)\n",
    "            #chain.append(Skeleton(x.copy(), v.copy(), n * δ))\n",
    "    chain.append(torch.concat((x, v), dim = -1))\n",
    "    return chain\n"
   ]
  },
  {
   "cell_type": "markdown",
   "id": "85ac5c63",
   "metadata": {},
   "source": [
    "## Generate data"
   ]
  },
  {
   "cell_type": "code",
   "execution_count": 20,
   "id": "2d92be82-86d8-49b9-a86c-0885c990dcf4",
   "metadata": {},
   "outputs": [
    {
     "name": "stdout",
     "output_type": "stream",
     "text": [
      "tensor([[0.9547, 0.9955]], device='mps:0')\n",
      "tensor([[0.9550, 0.9953]], device='mps:0')\n",
      "tensor([[0.9546, 0.9944]], device='mps:0')\n",
      "tensor([[0.9544, 0.9934]], device='mps:0')\n",
      "tensor([[0.9545, 0.9927]], device='mps:0')\n",
      "tensor([[0.9544, 0.9917]], device='mps:0')\n",
      "tensor([[0.9559, 0.9914]], device='mps:0')\n",
      "tensor([[0.9558, 0.9907]], device='mps:0')\n",
      "tensor([[0.9558, 0.9897]], device='mps:0')\n",
      "tensor([[0.9581, 0.9889]], device='mps:0')\n",
      "tensor([[0.9590, 0.9885]], device='mps:0')\n",
      "tensor([[0.9596, 0.9883]], device='mps:0')\n",
      "tensor([[0.9608, 0.9878]], device='mps:0')\n",
      "tensor([[0.9617, 0.9877]], device='mps:0')\n",
      "tensor([[0.9637, 0.9874]], device='mps:0')\n",
      "tensor([[0.9653, 0.9875]], device='mps:0')\n",
      "tensor([[0.9662, 0.9871]], device='mps:0')\n",
      "tensor([[0.9673, 0.9871]], device='mps:0')\n",
      "tensor([[0.9678, 0.9869]], device='mps:0')\n",
      "tensor([[0.9681, 0.9868]], device='mps:0')\n",
      "tensor([[0.9690, 0.9866]], device='mps:0')\n",
      "tensor([[0.9691, 0.9867]], device='mps:0')\n",
      "tensor([[0.9694, 0.9862]], device='mps:0')\n",
      "tensor([[0.9696, 0.9864]], device='mps:0')\n",
      "tensor([[0.9707, 0.9873]], device='mps:0')\n",
      "tensor([[0.9710, 0.9874]], device='mps:0')\n",
      "tensor([[0.9711, 0.9879]], device='mps:0')\n",
      "tensor([[0.9710, 0.9882]], device='mps:0')\n",
      "tensor([[0.9717, 0.9889]], device='mps:0')\n",
      "tensor([[0.9718, 0.9890]], device='mps:0')\n",
      "tensor([[0.9717, 0.9889]], device='mps:0')\n",
      "tensor([[0.9716, 0.9891]], device='mps:0')\n",
      "tensor([[0.9714, 0.9893]], device='mps:0')\n",
      "tensor([[0.9710, 0.9894]], device='mps:0')\n",
      "tensor([[0.9719, 0.9899]], device='mps:0')\n",
      "tensor([[0.9720, 0.9896]], device='mps:0')\n",
      "tensor([[0.9715, 0.9894]], device='mps:0')\n",
      "tensor([[0.9718, 0.9903]], device='mps:0')\n",
      "tensor([[0.9728, 0.9900]], device='mps:0')\n",
      "tensor([[0.9725, 0.9900]], device='mps:0')\n",
      "tensor([[0.9730, 0.9903]], device='mps:0')\n",
      "tensor([[0.9730, 0.9902]], device='mps:0')\n",
      "tensor([[0.9727, 0.9904]], device='mps:0')\n",
      "tensor([[0.9723, 0.9900]], device='mps:0')\n",
      "tensor([[0.9722, 0.9899]], device='mps:0')\n",
      "tensor([[0.9719, 0.9896]], device='mps:0')\n",
      "tensor([[0.9717, 0.9895]], device='mps:0')\n",
      "tensor([[0.9723, 0.9891]], device='mps:0')\n",
      "tensor([[0.9727, 0.9891]], device='mps:0')\n",
      "tensor([[0.9731, 0.9884]], device='mps:0')\n",
      "tensor([[0.9733, 0.9879]], device='mps:0')\n",
      "tensor([[0.9738, 0.9875]], device='mps:0')\n",
      "tensor([[0.9739, 0.9875]], device='mps:0')\n",
      "tensor([[0.9737, 0.9873]], device='mps:0')\n",
      "tensor([[0.9737, 0.9867]], device='mps:0')\n",
      "tensor([[0.9741, 0.9861]], device='mps:0')\n",
      "tensor([[0.9742, 0.9859]], device='mps:0')\n",
      "tensor([[0.9747, 0.9861]], device='mps:0')\n",
      "tensor([[0.9751, 0.9861]], device='mps:0')\n",
      "tensor([[0.9748, 0.9863]], device='mps:0')\n",
      "tensor([[0.9741, 0.9863]], device='mps:0')\n",
      "tensor([[0.9753, 0.9858]], device='mps:0')\n",
      "tensor([[0.9749, 0.9858]], device='mps:0')\n",
      "tensor([[0.9757, 0.9855]], device='mps:0')\n",
      "tensor([[0.9767, 0.9852]], device='mps:0')\n",
      "tensor([[0.9780, 0.9853]], device='mps:0')\n",
      "tensor([[0.9785, 0.9845]], device='mps:0')\n",
      "tensor([[0.9789, 0.9847]], device='mps:0')\n",
      "tensor([[0.9799, 0.9855]], device='mps:0')\n",
      "tensor([[0.9810, 0.9849]], device='mps:0')\n",
      "tensor([[0.9820, 0.9849]], device='mps:0')\n",
      "tensor([[0.9819, 0.9845]], device='mps:0')\n",
      "tensor([[0.9839, 0.9843]], device='mps:0')\n",
      "tensor([[0.9841, 0.9845]], device='mps:0')\n",
      "tensor([[0.9845, 0.9851]], device='mps:0')\n",
      "tensor([[0.9858, 0.9847]], device='mps:0')\n",
      "tensor([[0.9871, 0.9849]], device='mps:0')\n",
      "tensor([[0.9875, 0.9845]], device='mps:0')\n",
      "tensor([[0.9874, 0.9844]], device='mps:0')\n",
      "tensor([[0.9874, 0.9840]], device='mps:0')\n",
      "tensor([[0.9906, 0.9835]], device='mps:0')\n",
      "tensor([[0.9884, 0.9833]], device='mps:0')\n",
      "tensor([[0.9878, 0.9822]], device='mps:0')\n",
      "tensor([[0.9903, 0.9826]], device='mps:0')\n",
      "tensor([[0.9894, 0.9828]], device='mps:0')\n",
      "tensor([[0.9900, 0.9829]], device='mps:0')\n",
      "tensor([[0.9904, 0.9829]], device='mps:0')\n",
      "tensor([[0.9909, 0.9818]], device='mps:0')\n",
      "tensor([[0.9899, 0.9797]], device='mps:0')\n",
      "tensor([[0.9912, 0.9790]], device='mps:0')\n",
      "tensor([[0.9924, 0.9793]], device='mps:0')\n",
      "tensor([[0.9953, 0.9789]], device='mps:0')\n",
      "tensor([[0.9970, 0.9782]], device='mps:0')\n",
      "tensor([[1.0021, 0.9775]], device='mps:0')\n",
      "tensor([[1.0048, 0.9760]], device='mps:0')\n",
      "tensor([[1.0074, 0.9735]], device='mps:0')\n",
      "tensor([[1.0092, 0.9740]], device='mps:0')\n",
      "tensor([[1.0137, 0.9721]], device='mps:0')\n",
      "tensor([[1.0109, 0.9708]], device='mps:0')\n",
      "tensor([[1.0148, 0.9696]], device='mps:0')\n",
      "tensor([[1.0140, 0.9687]], device='mps:0')\n",
      "tensor([[1.0147, 0.9665]], device='mps:0')\n",
      "tensor([[1.0079, 0.9642]], device='mps:0')\n",
      "tensor([[1.0120, 0.9634]], device='mps:0')\n",
      "tensor([[1.0189, 0.9610]], device='mps:0')\n",
      "tensor([[1.0236, 0.9569]], device='mps:0')\n",
      "tensor([[1.0305, 0.9542]], device='mps:0')\n",
      "tensor([[1.0344, 0.9532]], device='mps:0')\n",
      "tensor([[1.0381, 0.9536]], device='mps:0')\n",
      "tensor([[1.0534, 0.9518]], device='mps:0')\n",
      "tensor([[1.0645, 0.9522]], device='mps:0')\n",
      "tensor([[1.0758, 0.9505]], device='mps:0')\n",
      "tensor([[1.0871, 0.9550]], device='mps:0')\n",
      "tensor([[1.0951, 0.9593]], device='mps:0')\n",
      "tensor([[1.0978, 0.9625]], device='mps:0')\n",
      "tensor([[1.1050, 0.9533]], device='mps:0')\n",
      "tensor([[1.1220, 0.9451]], device='mps:0')\n",
      "tensor([[1.1137, 0.9472]], device='mps:0')\n",
      "tensor([[1.1253, 0.9572]], device='mps:0')\n",
      "tensor([[1.1445, 0.9693]], device='mps:0')\n",
      "tensor([[1.1478, 0.9753]], device='mps:0')\n",
      "tensor([[1.1673, 0.9684]], device='mps:0')\n",
      "tensor([[1.1769, 0.9545]], device='mps:0')\n",
      "tensor([[1.1935, 0.9795]], device='mps:0')\n",
      "tensor([[1.2006, 1.0045]], device='mps:0')\n",
      "tensor([[1.2141, 0.9985]], device='mps:0')\n",
      "tensor([[1.2383, 1.0160]], device='mps:0')\n",
      "tensor([[1.2566, 1.0256]], device='mps:0')\n",
      "tensor([[1.2706, 1.0356]], device='mps:0')\n",
      "tensor([[1.2778, 1.0641]], device='mps:0')\n",
      "tensor([[1.2909, 1.0448]], device='mps:0')\n",
      "tensor([[1.2818, 1.0394]], device='mps:0')\n",
      "tensor([[1.2865, 1.0419]], device='mps:0')\n",
      "tensor([[1.3117, 1.0549]], device='mps:0')\n",
      "tensor([[1.3152, 1.0938]], device='mps:0')\n",
      "tensor([[1.3294, 1.0904]], device='mps:0')\n",
      "tensor([[1.3307, 1.0866]], device='mps:0')\n",
      "tensor([[1.3388, 1.0854]], device='mps:0')\n",
      "tensor([[1.3496, 1.0925]], device='mps:0')\n",
      "tensor([[1.3506, 1.0922]], device='mps:0')\n",
      "tensor([[1.3552, 1.0833]], device='mps:0')\n",
      "tensor([[1.3560, 1.0639]], device='mps:0')\n",
      "tensor([[1.3607, 1.0462]], device='mps:0')\n",
      "tensor([[1.3574, 1.0669]], device='mps:0')\n",
      "tensor([[1.3468, 1.0943]], device='mps:0')\n",
      "tensor([[1.3479, 1.1023]], device='mps:0')\n",
      "tensor([[1.3469, 1.1344]], device='mps:0')\n",
      "tensor([[1.3384, 1.1193]], device='mps:0')\n",
      "tensor([[1.3390, 1.0898]], device='mps:0')\n",
      "tensor([[1.3259, 1.0374]], device='mps:0')\n",
      "tensor([[1.3160, 1.0272]], device='mps:0')\n",
      "tensor([[1.2952, 1.0698]], device='mps:0')\n",
      "tensor([[1.2767, 1.0934]], device='mps:0')\n",
      "tensor([[1.2359, 1.0814]], device='mps:0')\n",
      "tensor([[1.1972, 1.0925]], device='mps:0')\n",
      "tensor([[1.1591, 1.0957]], device='mps:0')\n",
      "tensor([[1.1203, 1.0925]], device='mps:0')\n",
      "tensor([[1.0894, 1.0966]], device='mps:0')\n",
      "tensor([[1.0674, 1.0449]], device='mps:0')\n",
      "tensor([[1.0193, 1.0211]], device='mps:0')\n",
      "tensor([[0.9757, 1.0523]], device='mps:0')\n",
      "tensor([[0.9359, 1.0846]], device='mps:0')\n",
      "tensor([[0.9012, 1.0365]], device='mps:0')\n",
      "tensor([[0.8623, 1.0507]], device='mps:0')\n",
      "tensor([[0.8260, 1.0923]], device='mps:0')\n",
      "tensor([[0.7932, 1.1168]], device='mps:0')\n",
      "tensor([[0.7776, 1.1234]], device='mps:0')\n",
      "tensor([[0.7562, 1.1306]], device='mps:0')\n",
      "tensor([[0.7237, 1.0737]], device='mps:0')\n",
      "tensor([[0.7019, 1.0094]], device='mps:0')\n",
      "tensor([[0.7010, 0.9749]], device='mps:0')\n",
      "tensor([[0.6748, 0.9911]], device='mps:0')\n",
      "tensor([[0.6673, 0.9925]], device='mps:0')\n",
      "tensor([[0.6710, 0.9946]], device='mps:0')\n",
      "tensor([[0.6908, 0.9318]], device='mps:0')\n",
      "tensor([[0.6832, 0.9150]], device='mps:0')\n",
      "tensor([[0.6609, 0.9306]], device='mps:0')\n",
      "tensor([[0.6840, 0.9613]], device='mps:0')\n",
      "tensor([[0.6780, 0.9479]], device='mps:0')\n",
      "tensor([[0.6817, 0.9551]], device='mps:0')\n",
      "tensor([[0.6836, 0.9548]], device='mps:0')\n",
      "tensor([[0.7022, 0.9309]], device='mps:0')\n",
      "tensor([[0.6800, 0.9223]], device='mps:0')\n",
      "tensor([[0.6719, 0.9367]], device='mps:0')\n",
      "tensor([[0.6678, 0.9239]], device='mps:0')\n",
      "tensor([[0.6768, 0.9288]], device='mps:0')\n",
      "tensor([[0.6799, 0.9374]], device='mps:0')\n",
      "tensor([[0.6897, 0.9506]], device='mps:0')\n",
      "tensor([[0.7050, 0.9575]], device='mps:0')\n",
      "tensor([[0.7340, 0.9612]], device='mps:0')\n",
      "tensor([[0.7564, 0.9406]], device='mps:0')\n",
      "tensor([[0.7497, 0.9507]], device='mps:0')\n",
      "tensor([[0.7728, 0.9437]], device='mps:0')\n",
      "tensor([[0.7925, 0.9520]], device='mps:0')\n",
      "tensor([[0.7971, 0.9346]], device='mps:0')\n",
      "tensor([[0.8184, 0.8746]], device='mps:0')\n",
      "tensor([[0.8434, 0.8416]], device='mps:0')\n",
      "tensor([[0.8637, 0.8635]], device='mps:0')\n",
      "tensor([[0.8779, 0.8837]], device='mps:0')\n",
      "tensor([[0.8807, 0.9192]], device='mps:0')\n",
      "tensor([[0.8867, 0.8994]], device='mps:0')\n",
      "tensor([[0.9056, 0.9211]], device='mps:0')\n",
      "tensor([[0.9245, 0.9396]], device='mps:0')\n",
      "tensor([[0.9403, 0.9783]], device='mps:0')\n",
      "tensor([[0.9524, 0.9917]], device='mps:0')\n",
      "tensor([[0.9725, 1.0029]], device='mps:0')\n",
      "tensor([[1.0091, 1.0166]], device='mps:0')\n",
      "tensor([[1.0330, 1.0488]], device='mps:0')\n",
      "tensor([[1.0591, 1.0512]], device='mps:0')\n",
      "tensor([[1.0740, 1.0735]], device='mps:0')\n",
      "tensor([[1.1021, 1.1041]], device='mps:0')\n",
      "tensor([[1.1163, 1.1225]], device='mps:0')\n",
      "tensor([[1.1316, 1.1414]], device='mps:0')\n",
      "tensor([[1.1526, 1.1592]], device='mps:0')\n",
      "tensor([[1.1800, 1.1626]], device='mps:0')\n",
      "tensor([[1.2020, 1.1847]], device='mps:0')\n",
      "tensor([[1.2286, 1.2201]], device='mps:0')\n",
      "tensor([[1.2417, 1.2586]], device='mps:0')\n",
      "tensor([[1.2473, 1.2871]], device='mps:0')\n",
      "tensor([[1.2623, 1.3094]], device='mps:0')\n",
      "tensor([[1.2863, 1.3302]], device='mps:0')\n",
      "tensor([[1.2925, 1.3593]], device='mps:0')\n",
      "tensor([[1.3210, 1.4001]], device='mps:0')\n",
      "tensor([[1.3330, 1.4270]], device='mps:0')\n",
      "tensor([[1.3475, 1.4528]], device='mps:0')\n",
      "tensor([[1.3697, 1.4628]], device='mps:0')\n",
      "tensor([[1.3857, 1.4884]], device='mps:0')\n",
      "tensor([[1.4099, 1.5040]], device='mps:0')\n",
      "tensor([[1.4316, 1.5259]], device='mps:0')\n",
      "tensor([[1.4410, 1.5453]], device='mps:0')\n",
      "tensor([[1.4461, 1.5769]], device='mps:0')\n",
      "tensor([[1.4722, 1.5840]], device='mps:0')\n",
      "tensor([[1.4827, 1.6064]], device='mps:0')\n",
      "tensor([[1.4911, 1.6200]], device='mps:0')\n",
      "tensor([[1.4998, 1.6454]], device='mps:0')\n",
      "tensor([[1.5097, 1.6536]], device='mps:0')\n",
      "tensor([[1.5132, 1.6746]], device='mps:0')\n",
      "tensor([[1.5270, 1.6839]], device='mps:0')\n",
      "tensor([[1.5363, 1.6992]], device='mps:0')\n",
      "tensor([[1.5391, 1.6992]], device='mps:0')\n",
      "tensor([[1.5550, 1.6971]], device='mps:0')\n",
      "tensor([[1.5572, 1.7120]], device='mps:0')\n",
      "tensor([[1.5605, 1.7251]], device='mps:0')\n",
      "tensor([[1.5602, 1.7368]], device='mps:0')\n",
      "tensor([[1.5623, 1.7467]], device='mps:0')\n",
      "tensor([[1.5632, 1.7547]], device='mps:0')\n",
      "tensor([[1.5656, 1.7554]], device='mps:0')\n",
      "tensor([[1.5633, 1.7604]], device='mps:0')\n",
      "tensor([[1.5666, 1.7588]], device='mps:0')\n",
      "tensor([[1.5692, 1.7605]], device='mps:0')\n"
     ]
    }
   ],
   "source": [
    "# generate the reverse chain\n",
    "#delta = 1e-1\n",
    "chain = torch.stack(splitting_zzs_DBD(model, pdmp.T, 250, nsamples = 1000))"
   ]
  },
  {
   "cell_type": "markdown",
   "id": "0d0fcd48",
   "metadata": {},
   "source": [
    "## Inspect generated data trajectory - from noise to data distribution"
   ]
  },
  {
   "cell_type": "code",
   "execution_count": 21,
   "id": "2058100d-2a6c-49c8-b671-6c35bb13c1b2",
   "metadata": {
    "tags": []
   },
   "outputs": [
    {
     "data": {
      "image/png": "[encoded data removed]",
      "text/plain": [
       "<Figure size 640x480 with 1 Axes>"
      ]
     },
     "metadata": {},
     "output_type": "display_data"
    }
   ],
   "source": [
    "# Look at the position of the particle through time\n",
    "pos = chain[:, 0, :, :2].squeeze(-2) # squeeze: remove channel dimension\n",
    "plt.plot(pos[:, 0], pos[:, 1], linestyle='-')\n",
    "plt.grid(True)\n",
    "plt.show()"
   ]
  },
  {
   "cell_type": "markdown",
   "id": "16cea339",
   "metadata": {},
   "source": [
    "We can now use our GenerationManager object to examine the generated data."
   ]
  },
  {
   "cell_type": "markdown",
   "id": "8e265cee",
   "metadata": {},
   "source": [
    "* get animation"
   ]
  },
  {
   "cell_type": "code",
   "execution_count": 23,
   "id": "8f0d323a-1656-4250-bb15-00388237788f",
   "metadata": {
    "tags": []
   },
   "outputs": [
    {
     "data": {
      "text/plain": [
       "'./animation/check.mp4'"
      ]
     },
     "execution_count": 23,
     "metadata": {},
     "output_type": "execute_result"
    },
    {
     "data": {
      "image/png": "[encoded data removed]",
      "text/plain": [
       "<Figure size 640x480 with 1 Axes>"
      ]
     },
     "metadata": {},
     "output_type": "display_data"
    }
   ],
   "source": [
    "# Use Generation manager object to generate animation from the history of the data\n",
    "gen_model.history = chain[:, :, :, :2]\n",
    "gen_model.animation(generated_data_name = 'check')"
   ]
  },
  {
   "cell_type": "markdown",
   "id": "8fff9b5e-0901-4f4e-bbba-f210276d9b03",
   "metadata": {},
   "source": [
    "* Get plot of the generated data."
   ]
  },
  {
   "cell_type": "code",
   "execution_count": 22,
   "id": "3ae0b621-0e81-4e68-a73f-23f734ce56b3",
   "metadata": {
    "tags": []
   },
   "outputs": [
    {
     "data": {
      "image/png": "[encoded data removed]",
      "text/plain": [
       "<Figure size 640x480 with 1 Axes>"
      ]
     },
     "execution_count": 22,
     "metadata": {},
     "output_type": "execute_result"
    }
   ],
   "source": [
    "lims = 5\n",
    "gen_model.samples = chain[-1, :, :, :2].squeeze(-2) # get the last position of every sample, remove channel dimension\n",
    "gen_model.get_plot(limit_nb_orig_data = 100, # number of original data to plot\n",
    "                   xlim = (-lims, lims), ylim = (-lims, lims))"
   ]
  }
 ],
 "metadata": {
  "kernelspec": {
   "display_name": "Python 3 (ipykernel)",
   "language": "python",
   "name": "python3"
  },
  "language_info": {
   "codemirror_mode": {
    "name": "ipython",
    "version": 3
   },
   "file_extension": ".py",
   "mimetype": "text/x-python",
   "name": "python",
   "nbconvert_exporter": "python",
   "pygments_lexer": "ipython3",
   "version": "3.11.5"
  },
  "latex_envs": {
   "LaTeX_envs_menu_present": true,
   "autoclose": false,
   "autocomplete": false,
   "bibliofile": "biblio.bib",
   "cite_by": "apalike",
   "current_citInitial": 1,
   "eqLabelWithNumbers": true,
   "eqNumInitial": 1,
   "hotkeys": {
    "equation": "Ctrl-E",
    "itemize": "Ctrl-I"
   },
   "labels_anchors": false,
   "latex_user_defs": false,
   "report_style_numbering": false,
   "user_envs_cfg": false
  }
 },
 "nbformat": 4,
 "nbformat_minor": 5
}
